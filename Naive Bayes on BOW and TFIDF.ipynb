{
  "nbformat": 4,
  "nbformat_minor": 0,
  "metadata": {
    "colab": {
      "name": "6_Assignment_NB_Instructions.ipynb",
      "provenance": [],
      "collapsed_sections": []
    },
    "language_info": {
      "codemirror_mode": {
        "name": "ipython",
        "version": 3
      },
      "file_extension": ".py",
      "mimetype": "text/x-python",
      "name": "python",
      "nbconvert_exporter": "python",
      "pygments_lexer": "ipython3",
      "version": "3.6.8"
    },
    "kernelspec": {
      "display_name": "Python 3",
      "language": "python",
      "name": "python3"
    }
  },
  "cells": [
    {
      "cell_type": "markdown",
      "metadata": {
        "id": "Dnubs-Nnb3cw",
        "colab_type": "text"
      },
      "source": [
        "# Assignment 6: Apply NB"
      ]
    },
    {
      "cell_type": "markdown",
      "metadata": {
        "id": "12krXa2pb3c1",
        "colab_type": "text"
      },
      "source": [
        "<ol>\n",
        "    <li><strong>Apply Multinomial NB on these feature sets</strong>\n",
        "        <ul>\n",
        "            <li><font color='red'>Set 1</font>: categorical, numerical features + preprocessed_eassay (BOW)</li>\n",
        "            <li><font color='red'>Set 2</font>: categorical, numerical features + preprocessed_eassay (TFIDF)</li>\n",
        "        </ul>\n",
        "    </li>\n",
        "    <li><strong>The hyper paramter tuning(find best alpha:smoothing parameter)</strong>\n",
        "        <ul>\n",
        "    <li>Find the best hyper parameter which will give the maximum <a href='https://www.appliedaicourse.com/course/applied-ai-course-online/lessons/receiver-operating-characteristic-curve-roc-curve-and-auc-1/'>AUC</a> value</li>\n",
        "    <li>find the best hyper paramter using k-fold cross validation(use GridsearchCV or RandomsearchCV)/simple cross validation data (write for loop to iterate over hyper parameter values)</li>\n",
        "    <li></li>\n",
        "        </ul>\n",
        "    </li>\n",
        "    <li>\n",
        "    <strong>Representation of results</strong>\n",
        "        <ul>\n",
        "    <li>You need to plot the performance of model both on train data and cross validation data for each hyper parameter, like shown in the figure\n",
        "    <img src='https://i.imgur.com/hUv6aEy.jpg' width=300px></li>\n",
        "    <li>Once after you found the best hyper parameter, you need to train your model with it, and find the AUC on test data and plot the ROC curve on both train and test.\n",
        "    <img src='https://i.imgur.com/wMQDTFe.jpg' width=300px></li>\n",
        "    <li>Along with plotting ROC curve, you need to print the <a href='https://www.appliedaicourse.com/course/applied-ai-course-online/lessons/confusion-matrix-tpr-fpr-fnr-tnr-1/'>confusion matrix</a> with predicted and original labels of test data points\n",
        "    <img src='https://i.imgur.com/IdN5Ctv.png' width=300px></li>\n",
        "        </ul>\n",
        "    </li>\n",
        "    <li>\n",
        "fine the top 20 features from either from feature <font color='red'>Set 1</font> or feature <font color='red'>Set 2</font> using absolute values of `feature_log_prob_ ` parameter of `MultinomialNB` \n",
        "(https://scikit-learn.org/stable/modules/generated/sklearn.naive_bayes.MultinomialNB.html) and print their corresponding feature names\n",
        "    </li>\n",
        "    <li>You need to summarize the results at the end of the notebook, summarize it in the table format\n",
        "        <img src='http://i.imgur.com/YVpIGGE.jpg' width=400px>\n",
        "    </li>\n",
        "</ol>"
      ]
    },
    {
      "cell_type": "markdown",
      "metadata": {
        "id": "inzYCIaib3c3",
        "colab_type": "text"
      },
      "source": [
        "<h1>2. Naive Bayes </h1>"
      ]
    },
    {
      "cell_type": "markdown",
      "metadata": {
        "id": "FYqCIxzFb3c5",
        "colab_type": "text"
      },
      "source": [
        "## 1.1 Loading Data"
      ]
    },
    {
      "cell_type": "code",
      "metadata": {
        "id": "hHhIRO9NL3EA",
        "colab_type": "code",
        "colab": {}
      },
      "source": [
        "%matplotlib inline\n",
        "import warnings\n",
        "warnings.filterwarnings(\"ignore\")\n",
        "\n",
        "import sqlite3\n",
        "import pandas as pd\n",
        "import numpy as np\n",
        "import nltk\n",
        "import string\n",
        "import matplotlib.pyplot as plt\n",
        "import seaborn as sns\n",
        "from sklearn.feature_extraction.text import TfidfTransformer\n",
        "from sklearn.feature_extraction.text import TfidfVectorizer\n",
        "\n",
        "from sklearn.feature_extraction.text import CountVectorizer\n",
        "from sklearn.metrics import confusion_matrix\n",
        "from sklearn import metrics\n",
        "from sklearn.metrics import roc_curve, auc\n",
        "from nltk.stem.porter import PorterStemmer\n",
        "\n",
        "import re\n",
        "# Tutorial about Python regular expressions: https://pymotw.com/2/re/\n",
        "import string\n",
        "from nltk.corpus import stopwords\n",
        "from nltk.stem import PorterStemmer\n",
        "from nltk.stem.wordnet import WordNetLemmatizer\n",
        "\n",
        "from gensim.models import Word2Vec\n",
        "from gensim.models import KeyedVectors\n",
        "import pickle\n",
        "\n",
        "from tqdm import tqdm\n",
        "import os\n",
        "\n",
        "from collections import Counter"
      ],
      "execution_count": 0,
      "outputs": []
    },
    {
      "cell_type": "code",
      "metadata": {
        "id": "dA1jknyqb3c_",
        "colab_type": "code",
        "outputId": "378776bf-d8fb-42c8-fe79-ed87be0b55ad",
        "colab": {
          "base_uri": "https://localhost:8080/",
          "height": 124
        }
      },
      "source": [
        "\n",
        "from google.colab import drive\n",
        "drive.mount('/content/drive')\n"
      ],
      "execution_count": 2,
      "outputs": [
        {
          "output_type": "stream",
          "text": [
            "Go to this URL in a browser: https://accounts.google.com/o/oauth2/auth?client_id=947318989803-6bn6qk8qdgf4n4g3pfee6491hc0brc4i.apps.googleusercontent.com&redirect_uri=urn%3aietf%3awg%3aoauth%3a2.0%3aoob&response_type=code&scope=email%20https%3a%2f%2fwww.googleapis.com%2fauth%2fdocs.test%20https%3a%2f%2fwww.googleapis.com%2fauth%2fdrive%20https%3a%2f%2fwww.googleapis.com%2fauth%2fdrive.photos.readonly%20https%3a%2f%2fwww.googleapis.com%2fauth%2fpeopleapi.readonly\n",
            "\n",
            "Enter your authorization code:\n",
            "··········\n",
            "Mounted at /content/drive\n"
          ],
          "name": "stdout"
        }
      ]
    },
    {
      "cell_type": "code",
      "metadata": {
        "id": "x9XClEnUuHQC",
        "colab_type": "code",
        "colab": {}
      },
      "source": [
        "import pandas as pd\n",
        "#path = '/content/drive/My Drive/Copy of preprocessed_data.csv'\n",
        "trainpath = '/content/drive/My Drive/Copy of train_data.csv'\n",
        "\n",
        "data_train = pd.read_csv(trainpath)"
      ],
      "execution_count": 0,
      "outputs": []
    },
    {
      "cell_type": "code",
      "metadata": {
        "id": "y-trwv5krHZ4",
        "colab_type": "code",
        "colab": {}
      },
      "source": [
        "path = '/content/drive/My Drive/Copy of resources.csv'\n",
        "data_resource = pd.read_csv(path)"
      ],
      "execution_count": 0,
      "outputs": []
    },
    {
      "cell_type": "code",
      "metadata": {
        "id": "JAl1stw6uxpd",
        "colab_type": "code",
        "outputId": "e6960538-40bb-4da1-c3fe-c0b31e14aa17",
        "colab": {
          "base_uri": "https://localhost:8080/",
          "height": 79
        }
      },
      "source": [
        "data_resource.head(1)\n"
      ],
      "execution_count": 5,
      "outputs": [
        {
          "output_type": "execute_result",
          "data": {
            "text/html": [
              "<div>\n",
              "<style scoped>\n",
              "    .dataframe tbody tr th:only-of-type {\n",
              "        vertical-align: middle;\n",
              "    }\n",
              "\n",
              "    .dataframe tbody tr th {\n",
              "        vertical-align: top;\n",
              "    }\n",
              "\n",
              "    .dataframe thead th {\n",
              "        text-align: right;\n",
              "    }\n",
              "</style>\n",
              "<table border=\"1\" class=\"dataframe\">\n",
              "  <thead>\n",
              "    <tr style=\"text-align: right;\">\n",
              "      <th></th>\n",
              "      <th>id</th>\n",
              "      <th>description</th>\n",
              "      <th>quantity</th>\n",
              "      <th>price</th>\n",
              "    </tr>\n",
              "  </thead>\n",
              "  <tbody>\n",
              "    <tr>\n",
              "      <th>0</th>\n",
              "      <td>p233245</td>\n",
              "      <td>LC652 - Lakeshore Double-Space Mobile Drying Rack</td>\n",
              "      <td>1</td>\n",
              "      <td>149.0</td>\n",
              "    </tr>\n",
              "  </tbody>\n",
              "</table>\n",
              "</div>"
            ],
            "text/plain": [
              "        id                                        description  quantity  price\n",
              "0  p233245  LC652 - Lakeshore Double-Space Mobile Drying Rack         1  149.0"
            ]
          },
          "metadata": {
            "tags": []
          },
          "execution_count": 5
        }
      ]
    },
    {
      "cell_type": "code",
      "metadata": {
        "id": "G6YG1o4r8cl0",
        "colab_type": "code",
        "outputId": "31c7dce1-2668-4aba-930b-36233e33deaa",
        "colab": {
          "base_uri": "https://localhost:8080/",
          "height": 186
        }
      },
      "source": [
        "data_train.head(1)"
      ],
      "execution_count": 6,
      "outputs": [
        {
          "output_type": "execute_result",
          "data": {
            "text/html": [
              "<div>\n",
              "<style scoped>\n",
              "    .dataframe tbody tr th:only-of-type {\n",
              "        vertical-align: middle;\n",
              "    }\n",
              "\n",
              "    .dataframe tbody tr th {\n",
              "        vertical-align: top;\n",
              "    }\n",
              "\n",
              "    .dataframe thead th {\n",
              "        text-align: right;\n",
              "    }\n",
              "</style>\n",
              "<table border=\"1\" class=\"dataframe\">\n",
              "  <thead>\n",
              "    <tr style=\"text-align: right;\">\n",
              "      <th></th>\n",
              "      <th>Unnamed: 0</th>\n",
              "      <th>id</th>\n",
              "      <th>teacher_id</th>\n",
              "      <th>teacher_prefix</th>\n",
              "      <th>school_state</th>\n",
              "      <th>project_submitted_datetime</th>\n",
              "      <th>project_grade_category</th>\n",
              "      <th>project_subject_categories</th>\n",
              "      <th>project_subject_subcategories</th>\n",
              "      <th>project_title</th>\n",
              "      <th>project_essay_1</th>\n",
              "      <th>project_essay_2</th>\n",
              "      <th>project_essay_3</th>\n",
              "      <th>project_essay_4</th>\n",
              "      <th>project_resource_summary</th>\n",
              "      <th>teacher_number_of_previously_posted_projects</th>\n",
              "      <th>project_is_approved</th>\n",
              "    </tr>\n",
              "  </thead>\n",
              "  <tbody>\n",
              "    <tr>\n",
              "      <th>0</th>\n",
              "      <td>160221</td>\n",
              "      <td>p253737</td>\n",
              "      <td>c90749f5d961ff158d4b4d1e7dc665fc</td>\n",
              "      <td>Mrs.</td>\n",
              "      <td>IN</td>\n",
              "      <td>2016-12-05 13:43:57</td>\n",
              "      <td>Grades PreK-2</td>\n",
              "      <td>Literacy &amp; Language</td>\n",
              "      <td>ESL, Literacy</td>\n",
              "      <td>Educational Support for English Learners at Home</td>\n",
              "      <td>My students are English learners that are work...</td>\n",
              "      <td>\\\"The limits of your language are the limits o...</td>\n",
              "      <td>NaN</td>\n",
              "      <td>NaN</td>\n",
              "      <td>My students need opportunities to practice beg...</td>\n",
              "      <td>0</td>\n",
              "      <td>0</td>\n",
              "    </tr>\n",
              "  </tbody>\n",
              "</table>\n",
              "</div>"
            ],
            "text/plain": [
              "   Unnamed: 0  ... project_is_approved\n",
              "0      160221  ...                   0\n",
              "\n",
              "[1 rows x 17 columns]"
            ]
          },
          "metadata": {
            "tags": []
          },
          "execution_count": 6
        }
      ]
    },
    {
      "cell_type": "code",
      "metadata": {
        "id": "qvX1cveCu2mt",
        "colab_type": "code",
        "outputId": "0556741d-8d48-4815-9386-2e50e66c4e6a",
        "colab": {
          "base_uri": "https://localhost:8080/",
          "height": 1000
        }
      },
      "source": [
        "print(data_resource.columns)\n",
        "print(\"=\" * 70)\n",
        "print(\"Shape of the data: \" , data_resource.shape)\n",
        "print(\"=\" * 70)\n",
        "print(data_resource.isna().sum())\n",
        "print(\"=\" * 70)\n",
        "print(data_resource.dtypes)\n",
        "print(\"=\" * 70)\n",
        "print(data_train.columns)\n",
        "print(\"=\" * 70)\n",
        "print(\"Shape of the data: \" , data_train.shape)\n",
        "print(\"=\" * 70)\n",
        "print(data_train.isna().sum())\n",
        "print(\"=\" * 70)\n",
        "print(data_train.dtypes)"
      ],
      "execution_count": 7,
      "outputs": [
        {
          "output_type": "stream",
          "text": [
            "Index(['id', 'description', 'quantity', 'price'], dtype='object')\n",
            "======================================================================\n",
            "Shape of the data:  (1541272, 4)\n",
            "======================================================================\n",
            "id               0\n",
            "description    292\n",
            "quantity         0\n",
            "price            0\n",
            "dtype: int64\n",
            "======================================================================\n",
            "id              object\n",
            "description     object\n",
            "quantity         int64\n",
            "price          float64\n",
            "dtype: object\n",
            "======================================================================\n",
            "Index(['Unnamed: 0', 'id', 'teacher_id', 'teacher_prefix', 'school_state',\n",
            "       'project_submitted_datetime', 'project_grade_category',\n",
            "       'project_subject_categories', 'project_subject_subcategories',\n",
            "       'project_title', 'project_essay_1', 'project_essay_2',\n",
            "       'project_essay_3', 'project_essay_4', 'project_resource_summary',\n",
            "       'teacher_number_of_previously_posted_projects', 'project_is_approved'],\n",
            "      dtype='object')\n",
            "======================================================================\n",
            "Shape of the data:  (109248, 17)\n",
            "======================================================================\n",
            "Unnamed: 0                                           0\n",
            "id                                                   0\n",
            "teacher_id                                           0\n",
            "teacher_prefix                                       3\n",
            "school_state                                         0\n",
            "project_submitted_datetime                           0\n",
            "project_grade_category                               0\n",
            "project_subject_categories                           0\n",
            "project_subject_subcategories                        0\n",
            "project_title                                        0\n",
            "project_essay_1                                      0\n",
            "project_essay_2                                      0\n",
            "project_essay_3                                 105490\n",
            "project_essay_4                                 105490\n",
            "project_resource_summary                             0\n",
            "teacher_number_of_previously_posted_projects         0\n",
            "project_is_approved                                  0\n",
            "dtype: int64\n",
            "======================================================================\n",
            "Unnamed: 0                                       int64\n",
            "id                                              object\n",
            "teacher_id                                      object\n",
            "teacher_prefix                                  object\n",
            "school_state                                    object\n",
            "project_submitted_datetime                      object\n",
            "project_grade_category                          object\n",
            "project_subject_categories                      object\n",
            "project_subject_subcategories                   object\n",
            "project_title                                   object\n",
            "project_essay_1                                 object\n",
            "project_essay_2                                 object\n",
            "project_essay_3                                 object\n",
            "project_essay_4                                 object\n",
            "project_resource_summary                        object\n",
            "teacher_number_of_previously_posted_projects     int64\n",
            "project_is_approved                              int64\n",
            "dtype: object\n"
          ],
          "name": "stdout"
        }
      ]
    },
    {
      "cell_type": "markdown",
      "metadata": {
        "id": "Y8WufbTs7Adc",
        "colab_type": "text"
      },
      "source": [
        "**Preprocessing of data**\n",
        "\n"
      ]
    },
    {
      "cell_type": "markdown",
      "metadata": {
        "id": "__EM_3BL9S2p",
        "colab_type": "text"
      },
      "source": [
        "1. project_subject_categories"
      ]
    },
    {
      "cell_type": "code",
      "metadata": {
        "id": "_-usfHa27D7r",
        "colab_type": "code",
        "colab": {}
      },
      "source": [
        "catogories = list(data_train['project_subject_categories'].values)\n",
        "# remove special characters from list of strings python: https://stackoverflow.com/a/47301924/4084039\n",
        "\n",
        "# https://www.geeksforgeeks.org/removing-stop-words-nltk-python/\n",
        "# https://stackoverflow.com/questions/23669024/how-to-strip-a-specific-word-from-a-string\n",
        "# https://stackoverflow.com/questions/8270092/remove-all-whitespace-in-a-string-in-python\n",
        "cat_list = []\n",
        "for i in catogories:\n",
        "    temp = \"\"\n",
        "    # consider we have text like this \"Math & Science, Warmth, Care & Hunger\"\n",
        "    for j in i.split(','): # it will split it in three parts [\"Math & Science\", \"Warmth\", \"Care & Hunger\"]\n",
        "        if 'The' in j.split(): # this will split each of the catogory based on space \"Math & Science\"=> \"Math\",\"&\", \"Science\"\n",
        "            j=j.replace('The','') # if we have the words \"The\" we are going to replace it with ''(i.e removing 'The')\n",
        "        j = j.replace(' ','') # we are placeing all the ' '(space) with ''(empty) ex:\"Math & Science\"=>\"Math&Science\"\n",
        "        temp+=j.strip()+\" \" #\" abc \".strip() will return \"abc\", remove the trailing spaces\n",
        "        temp = temp.replace('&','_') # we are replacing the & value into \n",
        "    cat_list.append(temp.strip())\n",
        "    \n",
        "data_train['clean_categories'] = cat_list\n",
        "data_train.drop(['project_subject_categories'], axis=1, inplace=True)\n",
        "\n",
        "from collections import Counter\n",
        "my_counter = Counter()\n",
        "for word in data_train['clean_categories'].values:\n",
        "    my_counter.update(word.split())\n",
        "\n",
        "cat_dict = dict(my_counter)\n",
        "sorted_cat_dict = dict(sorted(cat_dict.items(), key=lambda kv: kv[1]))"
      ],
      "execution_count": 0,
      "outputs": []
    },
    {
      "cell_type": "markdown",
      "metadata": {
        "id": "tJbAUnO7J2c1",
        "colab_type": "text"
      },
      "source": [
        "2. project_subject_subcategories"
      ]
    },
    {
      "cell_type": "code",
      "metadata": {
        "id": "hNfrybHWJ5aF",
        "colab_type": "code",
        "colab": {}
      },
      "source": [
        "catogories = list(data_train['project_subject_subcategories'].values)\n",
        "# remove special characters from list of strings python: https://stackoverflow.com/a/47301924/4084039\n",
        "\n",
        "# https://www.geeksforgeeks.org/removing-stop-words-nltk-python/\n",
        "# https://stackoverflow.com/questions/23669024/how-to-strip-a-specific-word-from-a-string\n",
        "# https://stackoverflow.com/questions/8270092/remove-all-whitespace-in-a-string-in-python\n",
        "cat_list = []\n",
        "for i in catogories:\n",
        "    temp = \"\"\n",
        "    # consider we have text like this \"Math & Science, Warmth, Care & Hunger\"\n",
        "    for j in i.split(','): # it will split it in three parts [\"Math & Science\", \"Warmth\", \"Care & Hunger\"]\n",
        "        if 'The' in j.split(): # this will split each of the catogory based on space \"Math & Science\"=> \"Math\",\"&\", \"Science\"\n",
        "            j=j.replace('The','') # if we have the words \"The\" we are going to replace it with ''(i.e removing 'The')\n",
        "        j = j.replace(' ','') # we are placeing all the ' '(space) with ''(empty) ex:\"Math & Science\"=>\"Math&Science\"\n",
        "        temp+=j.strip()+\" \" #\" abc \".strip() will return \"abc\", remove the trailing spaces\n",
        "        temp = temp.replace('&','_') # we are replacing the & value into \n",
        "    cat_list.append(temp.strip())\n",
        "    \n",
        "data_train['clean_categories'] = cat_list\n",
        "data_train.drop(['project_subject_subcategories'], axis=1, inplace=True)\n",
        "\n",
        "from collections import Counter\n",
        "my_counter = Counter()\n",
        "for word in data_train['clean_categories'].values:\n",
        "    my_counter.update(word.split())\n",
        "\n",
        "cat_dict = dict(my_counter)\n",
        "sorted_cat_dict = dict(sorted(cat_dict.items(), key=lambda kv: kv[1]))"
      ],
      "execution_count": 0,
      "outputs": []
    },
    {
      "cell_type": "markdown",
      "metadata": {
        "id": "D0UE03iOKMbJ",
        "colab_type": "text"
      },
      "source": [
        "3. project_grade_category"
      ]
    },
    {
      "cell_type": "code",
      "metadata": {
        "id": "l4H3cbBmKSU3",
        "colab_type": "code",
        "outputId": "826a3f1b-0636-43c6-e3de-6ee4363cac76",
        "colab": {
          "base_uri": "https://localhost:8080/",
          "height": 104
        }
      },
      "source": [
        "data_train['project_grade_category'].value_counts()"
      ],
      "execution_count": 10,
      "outputs": [
        {
          "output_type": "execute_result",
          "data": {
            "text/plain": [
              "Grades PreK-2    44225\n",
              "Grades 3-5       37137\n",
              "Grades 6-8       16923\n",
              "Grades 9-12      10963\n",
              "Name: project_grade_category, dtype: int64"
            ]
          },
          "metadata": {
            "tags": []
          },
          "execution_count": 10
        }
      ]
    },
    {
      "cell_type": "markdown",
      "metadata": {
        "id": "GlQlf0FFKwDa",
        "colab_type": "text"
      },
      "source": [
        "Observation: So it is clear that for which class the amount of projects are targetted.Most is for \"Grades PreK-2\" "
      ]
    },
    {
      "cell_type": "code",
      "metadata": {
        "id": "jzvrZ-q3Ktor",
        "colab_type": "code",
        "outputId": "1479b88f-3330-4fba-ae33-d9ca3326cd0f",
        "colab": {
          "base_uri": "https://localhost:8080/",
          "height": 35
        }
      },
      "source": [
        "preprocessed_project_grade_categories= []\n",
        "\n",
        "for grade_cat in tqdm(data_train[\"project_grade_category\"]):\n",
        "   \n",
        "    grade_cat = grade_cat.replace('-', '_')  #Replacing(-) with(_)\n",
        "    grade_cat = grade_cat.replace('Grades', '') #Removing grades as it is redundant\n",
        "    #grade_cat = grade_cat.replace('PreK', '0')\n",
        "\n",
        "    grad_cat = ' '.join(f for f in grade_cat.split())\n",
        "    preprocessed_project_grade_categories.append(grad_cat.strip())"
      ],
      "execution_count": 11,
      "outputs": [
        {
          "output_type": "stream",
          "text": [
            "100%|██████████| 109248/109248 [00:00<00:00, 550421.54it/s]\n"
          ],
          "name": "stderr"
        }
      ]
    },
    {
      "cell_type": "code",
      "metadata": {
        "id": "43bFpkKC7Jfx",
        "colab_type": "code",
        "outputId": "ec98ea7e-4a0a-4cc2-df58-2f398bb34889",
        "colab": {
          "base_uri": "https://localhost:8080/",
          "height": 191
        }
      },
      "source": [
        "print(preprocessed_project_grade_categories[1])\n",
        "print(\"=\"*50)\n",
        "print(preprocessed_project_grade_categories[50])\n",
        "print(\"=\"*50)\n",
        "print(preprocessed_project_grade_categories[500])\n",
        "print(\"=\"*50)\n",
        "print(preprocessed_project_grade_categories[5000])\n",
        "print(\"=\"*50)\n",
        "print(preprocessed_project_grade_categories[10001])\n",
        "print(\"=\"*50)"
      ],
      "execution_count": 12,
      "outputs": [
        {
          "output_type": "stream",
          "text": [
            "6_8\n",
            "==================================================\n",
            "PreK_2\n",
            "==================================================\n",
            "9_12\n",
            "==================================================\n",
            "PreK_2\n",
            "==================================================\n",
            "PreK_2\n",
            "==================================================\n"
          ],
          "name": "stdout"
        }
      ]
    },
    {
      "cell_type": "markdown",
      "metadata": {
        "id": "MtXVz4jYPAhi",
        "colab_type": "text"
      },
      "source": [
        "4. teacher_prefix                                  "
      ]
    },
    {
      "cell_type": "code",
      "metadata": {
        "id": "pKBD5mZjO95Z",
        "colab_type": "code",
        "outputId": "2d7ace08-b904-4f48-cebb-7de55bfcc247",
        "colab": {
          "base_uri": "https://localhost:8080/",
          "height": 35
        }
      },
      "source": [
        "data_train['teacher_prefix'].isna().sum()\n",
        "\n"
      ],
      "execution_count": 13,
      "outputs": [
        {
          "output_type": "execute_result",
          "data": {
            "text/plain": [
              "3"
            ]
          },
          "metadata": {
            "tags": []
          },
          "execution_count": 13
        }
      ]
    },
    {
      "cell_type": "code",
      "metadata": {
        "id": "qPAu3aDvPpgE",
        "colab_type": "code",
        "colab": {}
      },
      "source": [
        "data_train['teacher_prefix'] = data_train['teacher_prefix'].fillna('null')"
      ],
      "execution_count": 0,
      "outputs": []
    },
    {
      "cell_type": "code",
      "metadata": {
        "id": "4E4mfjh5PtQo",
        "colab_type": "code",
        "colab": {}
      },
      "source": [
        "def replace_cate(lst):          # Removing (.) in Mrs. \n",
        "    return lst.replace('.','')\n",
        "   \n",
        "\n",
        "data_train['teacher_prefix']= data_train['teacher_prefix'].astype(str).apply(replace_cate)"
      ],
      "execution_count": 0,
      "outputs": []
    },
    {
      "cell_type": "code",
      "metadata": {
        "id": "u3KsokPoP8TI",
        "colab_type": "code",
        "outputId": "5a8ec1b2-c22e-498d-848c-7e4c71e232c3",
        "colab": {
          "base_uri": "https://localhost:8080/",
          "height": 225
        }
      },
      "source": [
        "print(data_train['teacher_prefix'])"
      ],
      "execution_count": 16,
      "outputs": [
        {
          "output_type": "stream",
          "text": [
            "0         Mrs\n",
            "1          Mr\n",
            "2          Ms\n",
            "3         Mrs\n",
            "4         Mrs\n",
            "         ... \n",
            "109243     Mr\n",
            "109244     Ms\n",
            "109245    Mrs\n",
            "109246    Mrs\n",
            "109247     Ms\n",
            "Name: teacher_prefix, Length: 109248, dtype: object\n"
          ],
          "name": "stdout"
        }
      ]
    },
    {
      "cell_type": "code",
      "metadata": {
        "id": "qE1jACZCQBX1",
        "colab_type": "code",
        "outputId": "93a91ea7-67ea-4743-f35c-5ec3b9ffd9cc",
        "colab": {
          "base_uri": "https://localhost:8080/",
          "height": 35
        }
      },
      "source": [
        "preprocessed_teacher_prefix = []\n",
        "\n",
        "for teach_prefix in tqdm(data_train[\"teacher_prefix\"]):\n",
        "    \n",
        "    preprocessed_teacher_prefix.append(teach_prefix.strip())"
      ],
      "execution_count": 17,
      "outputs": [
        {
          "output_type": "stream",
          "text": [
            "100%|██████████| 109248/109248 [00:00<00:00, 1733125.52it/s]\n"
          ],
          "name": "stderr"
        }
      ]
    },
    {
      "cell_type": "code",
      "metadata": {
        "id": "vGn5cZTkSu9f",
        "colab_type": "code",
        "outputId": "d21285a3-3268-47ea-9f8e-190c4bec57ff",
        "colab": {
          "base_uri": "https://localhost:8080/",
          "height": 139
        }
      },
      "source": [
        "data_train['teacher_prefix'].value_counts()"
      ],
      "execution_count": 18,
      "outputs": [
        {
          "output_type": "execute_result",
          "data": {
            "text/plain": [
              "Mrs        57269\n",
              "Ms         38955\n",
              "Mr         10648\n",
              "Teacher     2360\n",
              "Dr            13\n",
              "null           3\n",
              "Name: teacher_prefix, dtype: int64"
            ]
          },
          "metadata": {
            "tags": []
          },
          "execution_count": 18
        }
      ]
    },
    {
      "cell_type": "markdown",
      "metadata": {
        "id": "AaqzCN-tTN7A",
        "colab_type": "text"
      },
      "source": [
        "5. Adding a new feature Number of words in title"
      ]
    },
    {
      "cell_type": "code",
      "metadata": {
        "id": "zRbcEoESTRTe",
        "colab_type": "code",
        "colab": {}
      },
      "source": [
        "title_word_count = []\n",
        "\n",
        "for a in data_train[\"project_title\"] :\n",
        "    b = len(a.split())\n",
        "    title_word_count.append(b)\n",
        "\n",
        "data_train[\"title_word_count\"] = title_word_count    "
      ],
      "execution_count": 0,
      "outputs": []
    },
    {
      "cell_type": "code",
      "metadata": {
        "id": "UW_SJ1wkTeb7",
        "colab_type": "code",
        "outputId": "ffebbbcc-a022-4d23-c625-6700f43bb002",
        "colab": {
          "base_uri": "https://localhost:8080/",
          "height": 225
        }
      },
      "source": [
        "data_train['title_word_count']"
      ],
      "execution_count": 20,
      "outputs": [
        {
          "output_type": "execute_result",
          "data": {
            "text/plain": [
              "0         7\n",
              "1         5\n",
              "2         7\n",
              "3         2\n",
              "4         3\n",
              "         ..\n",
              "109243    6\n",
              "109244    4\n",
              "109245    6\n",
              "109246    5\n",
              "109247    7\n",
              "Name: title_word_count, Length: 109248, dtype: int64"
            ]
          },
          "metadata": {
            "tags": []
          },
          "execution_count": 20
        }
      ]
    },
    {
      "cell_type": "markdown",
      "metadata": {
        "id": "U6QSsZBy1Xdl",
        "colab_type": "text"
      },
      "source": [
        "# merge 4 column text dataframe: "
      ]
    },
    {
      "cell_type": "code",
      "metadata": {
        "id": "o1hderuo1Zjq",
        "colab_type": "code",
        "colab": {}
      },
      "source": [
        "# https://towardsdatascience.com/natural-language-processing-on-multiple-columns-in-python-554043e05308\n",
        "data_train[\"essay\"] = data_train[\"project_essay_1\"].map(str) +\\\n",
        "                        data_train[\"project_essay_2\"].map(str) + \\\n",
        "                        data_train[\"project_essay_3\"].map(str) + \\\n",
        "                        data_train[\"project_essay_4\"].map(str)"
      ],
      "execution_count": 0,
      "outputs": []
    },
    {
      "cell_type": "code",
      "metadata": {
        "id": "mDgy1Q-n1ftv",
        "colab_type": "code",
        "colab": {}
      },
      "source": [
        "essay_word_count=[]\n",
        "for ess in data_train[\"essay\"] :\n",
        "    c = len(ess.split())\n",
        "    essay_word_count.append(c)\n",
        "\n",
        "data_train[\"essay_word_count\"] = essay_word_count    "
      ],
      "execution_count": 0,
      "outputs": []
    },
    {
      "cell_type": "code",
      "metadata": {
        "id": "ZWKZFN6i1x_h",
        "colab_type": "code",
        "outputId": "798cc9c2-5738-4bb1-dba1-34c57a4c904f",
        "colab": {
          "base_uri": "https://localhost:8080/",
          "height": 221
        }
      },
      "source": [
        "data_train.head(1)"
      ],
      "execution_count": 23,
      "outputs": [
        {
          "output_type": "execute_result",
          "data": {
            "text/html": [
              "<div>\n",
              "<style scoped>\n",
              "    .dataframe tbody tr th:only-of-type {\n",
              "        vertical-align: middle;\n",
              "    }\n",
              "\n",
              "    .dataframe tbody tr th {\n",
              "        vertical-align: top;\n",
              "    }\n",
              "\n",
              "    .dataframe thead th {\n",
              "        text-align: right;\n",
              "    }\n",
              "</style>\n",
              "<table border=\"1\" class=\"dataframe\">\n",
              "  <thead>\n",
              "    <tr style=\"text-align: right;\">\n",
              "      <th></th>\n",
              "      <th>Unnamed: 0</th>\n",
              "      <th>id</th>\n",
              "      <th>teacher_id</th>\n",
              "      <th>teacher_prefix</th>\n",
              "      <th>school_state</th>\n",
              "      <th>project_submitted_datetime</th>\n",
              "      <th>project_grade_category</th>\n",
              "      <th>project_title</th>\n",
              "      <th>project_essay_1</th>\n",
              "      <th>project_essay_2</th>\n",
              "      <th>project_essay_3</th>\n",
              "      <th>project_essay_4</th>\n",
              "      <th>project_resource_summary</th>\n",
              "      <th>teacher_number_of_previously_posted_projects</th>\n",
              "      <th>project_is_approved</th>\n",
              "      <th>clean_categories</th>\n",
              "      <th>title_word_count</th>\n",
              "      <th>essay</th>\n",
              "      <th>essay_word_count</th>\n",
              "    </tr>\n",
              "  </thead>\n",
              "  <tbody>\n",
              "    <tr>\n",
              "      <th>0</th>\n",
              "      <td>160221</td>\n",
              "      <td>p253737</td>\n",
              "      <td>c90749f5d961ff158d4b4d1e7dc665fc</td>\n",
              "      <td>Mrs</td>\n",
              "      <td>IN</td>\n",
              "      <td>2016-12-05 13:43:57</td>\n",
              "      <td>Grades PreK-2</td>\n",
              "      <td>Educational Support for English Learners at Home</td>\n",
              "      <td>My students are English learners that are work...</td>\n",
              "      <td>\\\"The limits of your language are the limits o...</td>\n",
              "      <td>NaN</td>\n",
              "      <td>NaN</td>\n",
              "      <td>My students need opportunities to practice beg...</td>\n",
              "      <td>0</td>\n",
              "      <td>0</td>\n",
              "      <td>ESL Literacy</td>\n",
              "      <td>7</td>\n",
              "      <td>My students are English learners that are work...</td>\n",
              "      <td>272</td>\n",
              "    </tr>\n",
              "  </tbody>\n",
              "</table>\n",
              "</div>"
            ],
            "text/plain": [
              "   Unnamed: 0  ... essay_word_count\n",
              "0      160221  ...              272\n",
              "\n",
              "[1 rows x 19 columns]"
            ]
          },
          "metadata": {
            "tags": []
          },
          "execution_count": 23
        }
      ]
    },
    {
      "cell_type": "markdown",
      "metadata": {
        "id": "WtVV13Fyb3dH",
        "colab_type": "text"
      },
      "source": [
        "<h2>1.2 Splitting data into Train and cross validation(or test): Stratified Sampling</h2>"
      ]
    },
    {
      "cell_type": "code",
      "metadata": {
        "id": "i-PyprDNb3dI",
        "colab_type": "code",
        "colab": {}
      },
      "source": [
        "# please write all the code with proper documentation, and proper titles for each subsection\n",
        "# go through documentations and blogs before you start coding\n",
        "# first figure out what to do, and then think about how to do.\n",
        "# reading and understanding error messages will be very much helpfull in debugging your code\n",
        "# when you plot any graph make sure you use \n",
        "    # a. Title, that describes your plot, this will be very helpful to the reader\n",
        "    # b. Legends if needed\n",
        "    # c. X-axis label\n",
        "    # d. Y-axis label\n",
        "\n",
        "\n",
        "from sklearn.model_selection import train_test_split\n",
        "\n",
        "X_train, X_test, y_train, y_test = train_test_split(data_train, data_train['project_is_approved'], test_size=0.33, stratify = data_train['project_is_approved'],random_state=0)\n",
        "X_train, X_cv, y_train, y_cv = train_test_split(X_train, y_train, test_size=0.33, stratify=y_train,random_state=0)    "
      ],
      "execution_count": 0,
      "outputs": []
    },
    {
      "cell_type": "code",
      "metadata": {
        "id": "YPPRx5O12-D-",
        "colab_type": "code",
        "colab": {}
      },
      "source": [
        "X_train.drop(['project_is_approved'], axis=1, inplace=True)\n",
        "X_test.drop(['project_is_approved'], axis=1, inplace=True)\n",
        "X_cv.drop(['project_is_approved'], axis=1, inplace=True)"
      ],
      "execution_count": 0,
      "outputs": []
    },
    {
      "cell_type": "code",
      "metadata": {
        "id": "55iUqatjJk4M",
        "colab_type": "code",
        "colab": {}
      },
      "source": [
        "# https://stackoverflow.com/a/47091490/4084039\n",
        "import re\n",
        "\n",
        "def decontracted(phrase):\n",
        "    # specific\n",
        "    phrase = re.sub(r\"won't\", \"will not\", phrase)\n",
        "    phrase = re.sub(r\"can\\'t\", \"can not\", phrase)\n",
        "\n",
        "    # general\n",
        "    phrase = re.sub(r\"n\\'t\", \" not\", phrase)\n",
        "    phrase = re.sub(r\"\\'re\", \" are\", phrase)\n",
        "    phrase = re.sub(r\"\\'s\", \" is\", phrase)\n",
        "    phrase = re.sub(r\"\\'d\", \" would\", phrase)\n",
        "    phrase = re.sub(r\"\\'ll\", \" will\", phrase)\n",
        "    phrase = re.sub(r\"\\'t\", \" not\", phrase)\n",
        "    phrase = re.sub(r\"\\'ve\", \" have\", phrase)\n",
        "    phrase = re.sub(r\"\\'m\", \" am\", phrase)\n",
        "    return phrase"
      ],
      "execution_count": 0,
      "outputs": []
    },
    {
      "cell_type": "code",
      "metadata": {
        "id": "v2F0QfebK2tq",
        "colab_type": "code",
        "colab": {}
      },
      "source": [
        "sent = decontracted(X_train['essay'].values[40000])\n",
        "\n"
      ],
      "execution_count": 0,
      "outputs": []
    },
    {
      "cell_type": "code",
      "metadata": {
        "id": "wu6k-chwLaCe",
        "colab_type": "code",
        "colab": {}
      },
      "source": [
        "# https://gist.github.com/sebleier/554280\n",
        "# we are removing the words from the stop words list: no,not,nor\n",
        "stopwords= ['i', 'me', 'my', 'myself', 'we', 'our', 'ours', 'ourselves', 'you', \"you're\", \"you've\",\\\n",
        "            \"you'll\", \"you'd\", 'your', 'yours', 'yourself', 'yourselves', 'he', 'him', 'his', 'himself', \\\n",
        "            'she', \"she's\", 'her', 'hers', 'herself', 'it', \"it's\", 'its', 'itself', 'they', 'them', 'their',\\\n",
        "            'theirs', 'themselves', 'what', 'which', 'who', 'whom', 'this', 'that', \"that'll\", 'these', 'those', \\\n",
        "            'am', 'is', 'are', 'was', 'were', 'be', 'been', 'being', 'have', 'has', 'had', 'having', 'do', 'does', \\\n",
        "            'did', 'doing', 'a', 'an', 'the', 'and', 'but', 'if', 'or', 'because', 'as', 'until', 'while', 'of', \\\n",
        "            'at', 'by', 'for', 'with', 'about', 'against', 'between', 'into', 'through', 'during', 'before', 'after',\\\n",
        "            'above', 'below', 'to', 'from', 'up', 'down', 'in', 'out', 'on', 'off', 'over', 'under', 'again', 'further',\\\n",
        "            'then', 'once', 'here', 'there', 'when', 'where', 'why', 'how', 'all', 'any', 'both', 'each', 'few', 'more',\\\n",
        "            'most', 'other', 'some', 'such', 'only', 'own', 'same', 'so', 'than', 'too', 'very', \\\n",
        "            's', 't', 'can', 'will', 'just', 'don', \"don't\", 'should', \"should've\", 'now', 'd', 'll', 'm', 'o', 're', \\\n",
        "            've', 'y', 'ain', 'aren', \"aren't\", 'couldn', \"couldn't\", 'didn', \"didn't\", 'doesn', \"doesn't\", 'hadn',\\\n",
        "            \"hadn't\", 'hasn', \"hasn't\", 'haven', \"haven't\", 'isn', \"isn't\", 'ma', 'mightn', \"mightn't\", 'mustn',\\\n",
        "            \"mustn't\", 'needn', \"needn't\", 'shan', \"shan't\", 'shouldn', \"shouldn't\", 'wasn', \"wasn't\", 'weren', \"weren't\", \\\n",
        "            'won', \"won't\", 'wouldn', \"wouldn't\"]"
      ],
      "execution_count": 0,
      "outputs": []
    },
    {
      "cell_type": "code",
      "metadata": {
        "id": "AhlWs0jELz56",
        "colab_type": "code",
        "outputId": "0870e093-14b1-46ca-f60d-070500d74ebe",
        "colab": {
          "base_uri": "https://localhost:8080/",
          "height": 35
        }
      },
      "source": [
        "from tqdm import tqdm\n",
        "preprocessed_essays_train = []\n",
        "# tqdm is for printing the status bar\n",
        "for sentence in tqdm(X_train['essay'].values):\n",
        "    sent = ' '.join(e for e in sent.split() if e.lower() not in stopwords)\n",
        "    sent = decontracted(sentence)\n",
        "    sent = sent.replace('\\\\r', ' ')\n",
        "    sent = sent.replace('\\\\\"', ' ')\n",
        "    sent = sent.replace('\\\\n', ' ')\n",
        "    sent = re.sub('[^A-Za-z0-9]+', ' ', sent)\n",
        "\n",
        "    preprocessed_essays_train.append(sent.lower().strip())"
      ],
      "execution_count": 29,
      "outputs": [
        {
          "output_type": "stream",
          "text": [
            "100%|██████████| 49041/49041 [00:27<00:00, 1780.95it/s]\n"
          ],
          "name": "stderr"
        }
      ]
    },
    {
      "cell_type": "code",
      "metadata": {
        "id": "adRJziD3MOPU",
        "colab_type": "code",
        "outputId": "aff7673f-5c16-4fe8-da58-333b5661f80b",
        "colab": {
          "base_uri": "https://localhost:8080/",
          "height": 35
        }
      },
      "source": [
        "preprocessed_essays_test = []\n",
        "# tqdm is for printing the status bar\n",
        "for sentence in tqdm(X_test['essay'].values):\n",
        "    sent = ' '.join(e for e in sent.split() if e.lower() not in stopwords)\n",
        "    sent = decontracted(sentence)\n",
        "    sent = sent.replace('\\\\r', ' ')\n",
        "    sent = sent.replace('\\\\\"', ' ')\n",
        "    sent = sent.replace('\\\\n', ' ')\n",
        "    sent = re.sub('[^A-Za-z0-9]+', ' ', sent)\n",
        "    # https://gist.github.com/sebleier/554280\n",
        "    \n",
        "    preprocessed_essays_test.append(sent.lower().strip())"
      ],
      "execution_count": 30,
      "outputs": [
        {
          "output_type": "stream",
          "text": [
            "100%|██████████| 36052/36052 [00:20<00:00, 1776.15it/s]\n"
          ],
          "name": "stderr"
        }
      ]
    },
    {
      "cell_type": "code",
      "metadata": {
        "id": "McTFTbttMYcn",
        "colab_type": "code",
        "outputId": "e501eadc-b131-4be6-bd51-4eb3b1e941ad",
        "colab": {
          "base_uri": "https://localhost:8080/",
          "height": 35
        }
      },
      "source": [
        "preprocessed_essays_cv = []\n",
        "# tqdm is for printing the status bar\n",
        "for sentence in tqdm(X_cv['essay'].values):\n",
        "    sent = ' '.join(e for e in sent.split() if e.lower() not in stopwords)\n",
        "    sent = decontracted(sentence)\n",
        "    sent = sent.replace('\\\\r', ' ')\n",
        "    sent = sent.replace('\\\\\"', ' ')\n",
        "    sent = sent.replace('\\\\n', ' ')\n",
        "    sent = re.sub('[^A-Za-z0-9]+', ' ', sent)\n",
        "    # https://gist.github.com/sebleier/554280\n",
        "    \n",
        "    preprocessed_essays_cv.append(sent.lower().strip())"
      ],
      "execution_count": 31,
      "outputs": [
        {
          "output_type": "stream",
          "text": [
            "100%|██████████| 24155/24155 [00:13<00:00, 1777.39it/s]\n"
          ],
          "name": "stderr"
        }
      ]
    },
    {
      "cell_type": "markdown",
      "metadata": {
        "id": "Rg2PjuADNfWm",
        "colab_type": "text"
      },
      "source": [
        "6. project_title"
      ]
    },
    {
      "cell_type": "code",
      "metadata": {
        "id": "9KpT-7WwNi2m",
        "colab_type": "code",
        "colab": {}
      },
      "source": [
        "title = decontracted(X_train['project_title'].values[40000])"
      ],
      "execution_count": 0,
      "outputs": []
    },
    {
      "cell_type": "code",
      "metadata": {
        "id": "V9EQt5HzNp0Q",
        "colab_type": "code",
        "outputId": "124567a9-d8ff-44f8-d5eb-0958ebaff85d",
        "colab": {
          "base_uri": "https://localhost:8080/",
          "height": 35
        }
      },
      "source": [
        "preprocessed_titles_train = []\n",
        "\n",
        "for titles in tqdm(X_train[\"project_title\"]):\n",
        "    title = ' '.join(f for f in title.split() if f not in stopwords)\n",
        "    title = decontracted(titles)\n",
        "    title = title.replace('\\\\r', ' ')\n",
        "    title = title.replace('\\\\\"', ' ')\n",
        "    title = title.replace('\\\\n', ' ')\n",
        "    title = re.sub('[^A-Za-z0-9]+', ' ', title)\n",
        "    \n",
        "    preprocessed_titles_train.append(title.lower().strip())"
      ],
      "execution_count": 33,
      "outputs": [
        {
          "output_type": "stream",
          "text": [
            "100%|██████████| 49041/49041 [00:01<00:00, 40554.24it/s]\n"
          ],
          "name": "stderr"
        }
      ]
    },
    {
      "cell_type": "code",
      "metadata": {
        "id": "u4oTpxg--RMf",
        "colab_type": "code",
        "outputId": "c2bd2e82-e554-4277-f9ed-063e28da604a",
        "colab": {
          "base_uri": "https://localhost:8080/",
          "height": 35
        }
      },
      "source": [
        "preprocessed_titles_test = []\n",
        "\n",
        "for titles in tqdm(X_test[\"project_title\"]):\n",
        "    title = ' '.join(f for f in title.split() if f not in stopwords)\n",
        "    title = decontracted(titles)\n",
        "    title = title.replace('\\\\r', ' ')\n",
        "    title = title.replace('\\\\\"', ' ')\n",
        "    title = title.replace('\\\\n', ' ')\n",
        "    title = re.sub('[^A-Za-z0-9]+', ' ', title)\n",
        "    \n",
        "    preprocessed_titles_test.append(title.lower().strip())"
      ],
      "execution_count": 34,
      "outputs": [
        {
          "output_type": "stream",
          "text": [
            "100%|██████████| 36052/36052 [00:00<00:00, 41350.04it/s]\n"
          ],
          "name": "stderr"
        }
      ]
    },
    {
      "cell_type": "code",
      "metadata": {
        "id": "MAL9MAti-UzB",
        "colab_type": "code",
        "outputId": "c4c3de5b-0e0f-40da-b479-527264726b4f",
        "colab": {
          "base_uri": "https://localhost:8080/",
          "height": 35
        }
      },
      "source": [
        "preprocessed_titles_cv = []\n",
        "\n",
        "for titles in tqdm(X_cv[\"project_title\"]):\n",
        "    title = ' '.join(f for f in title.split() if f not in stopwords)\n",
        "    title = decontracted(titles)\n",
        "    title = title.replace('\\\\r', ' ')\n",
        "    title = title.replace('\\\\\"', ' ')\n",
        "    title = title.replace('\\\\n', ' ')\n",
        "    title = re.sub('[^A-Za-z0-9]+', ' ', title)\n",
        "    \n",
        "    preprocessed_titles_cv.append(title.lower().strip())"
      ],
      "execution_count": 35,
      "outputs": [
        {
          "output_type": "stream",
          "text": [
            "100%|██████████| 24155/24155 [00:00<00:00, 40797.76it/s]\n"
          ],
          "name": "stderr"
        }
      ]
    },
    {
      "cell_type": "code",
      "metadata": {
        "id": "P2uLA6QT-aP-",
        "colab_type": "code",
        "outputId": "48f7a6bd-e706-4f98-8ea3-75c5d25cff5e",
        "colab": {
          "base_uri": "https://localhost:8080/",
          "height": 69
        }
      },
      "source": [
        "print(\"train project:\", preprocessed_titles_train[20] )\n",
        "print(\"test project:\", preprocessed_titles_test[20] )\n",
        "print(\"cv project:\", preprocessed_titles_cv[20] )"
      ],
      "execution_count": 36,
      "outputs": [
        {
          "output_type": "stream",
          "text": [
            "train project: calling all questions\n",
            "test project: furniture for first grade\n",
            "cv project: movement motivates learning sight words and vocabulary words\n"
          ],
          "name": "stdout"
        }
      ]
    },
    {
      "cell_type": "markdown",
      "metadata": {
        "id": "EnZwVNULb3dO",
        "colab_type": "text"
      },
      "source": [
        "<h2>1.3 Make Data Model Ready: encoding eassay, and project_title</h2>"
      ]
    },
    {
      "cell_type": "code",
      "metadata": {
        "id": "-SczZKiab3dR",
        "colab_type": "code",
        "colab": {}
      },
      "source": [
        "# please write all the code with proper documentation, and proper titles for each subsection\n",
        "# go through documentations and blogs before you start coding\n",
        "# first figure out what to do, and then think about how to do.\n",
        "# reading and understanding error messages will be very much helpfull in debugging your code\n",
        "# make sure you featurize train and test data separatly\n",
        "\n",
        "# when you plot any graph make sure you use \n",
        "    # a. Title, that describes your plot, this will be very helpful to the reader\n",
        "    # b. Legends if needed\n",
        "    # c. X-axis label\n",
        "    # d. Y-axis label"
      ],
      "execution_count": 0,
      "outputs": []
    },
    {
      "cell_type": "markdown",
      "metadata": {
        "id": "bGy86kgHb3dX",
        "colab_type": "text"
      },
      "source": [
        "<h2>1.4 Make Data Model Ready: encoding numerical, categorical features</h2>"
      ]
    },
    {
      "cell_type": "code",
      "metadata": {
        "id": "EfXkofX1b3da",
        "colab_type": "code",
        "colab": {}
      },
      "source": [
        "# please write all the code with proper documentation, and proper titles for each subsection\n",
        "# go through documentations and blogs before you start coding \n",
        "# first figure out what to do, and then think about how to do.\n",
        "# reading and understanding error messages will be very much helpfull in debugging your code\n",
        "# make sure you featurize train and test data separatly\n",
        "\n",
        "# when you plot any graph make sure you use \n",
        "    # a. Title, that describes your plot, this will be very helpful to the reader\n",
        "    # b. Legends if needed\n",
        "    # c. X-axis label\n",
        "    # d. Y-axis label\n",
        "\n"
      ],
      "execution_count": 0,
      "outputs": []
    },
    {
      "cell_type": "code",
      "metadata": {
        "id": "Vy9DwwV4C5zR",
        "colab_type": "code",
        "outputId": "312d6fbe-7cff-4851-c2d1-7ebaea9207f9",
        "colab": {
          "base_uri": "https://localhost:8080/",
          "height": 139
        }
      },
      "source": [
        "X_train.columns"
      ],
      "execution_count": 38,
      "outputs": [
        {
          "output_type": "execute_result",
          "data": {
            "text/plain": [
              "Index(['Unnamed: 0', 'id', 'teacher_id', 'teacher_prefix', 'school_state',\n",
              "       'project_submitted_datetime', 'project_grade_category', 'project_title',\n",
              "       'project_essay_1', 'project_essay_2', 'project_essay_3',\n",
              "       'project_essay_4', 'project_resource_summary',\n",
              "       'teacher_number_of_previously_posted_projects', 'clean_categories',\n",
              "       'title_word_count', 'essay', 'essay_word_count'],\n",
              "      dtype='object')"
            ]
          },
          "metadata": {
            "tags": []
          },
          "execution_count": 38
        }
      ]
    },
    {
      "cell_type": "markdown",
      "metadata": {
        "id": "6dCOJsBA_Fr_",
        "colab_type": "text"
      },
      "source": [
        "a. vectorize - categorical data"
      ]
    },
    {
      "cell_type": "markdown",
      "metadata": {
        "id": "VhN7y40SPZI9",
        "colab_type": "text"
      },
      "source": [
        "clean_categories"
      ]
    },
    {
      "cell_type": "code",
      "metadata": {
        "id": "neb7qBaOAIcb",
        "colab_type": "code",
        "outputId": "378d78fa-9efb-4ec2-e497-6edb08d4783c",
        "colab": {
          "base_uri": "https://localhost:8080/",
          "height": 225
        }
      },
      "source": [
        "print(X_train['clean_categories'])"
      ],
      "execution_count": 39,
      "outputs": [
        {
          "output_type": "stream",
          "text": [
            "75742                               VisualArts\n",
            "61001                         ForeignLanguages\n",
            "86123                              Mathematics\n",
            "13405                                 Literacy\n",
            "71845           AppliedSciences PerformingArts\n",
            "                         ...                  \n",
            "7607                           AppliedSciences\n",
            "60234                             SpecialNeeds\n",
            "65837              CharacterEducation Literacy\n",
            "22568    CharacterEducation College_CareerPrep\n",
            "7728            Literature_Writing Mathematics\n",
            "Name: clean_categories, Length: 49041, dtype: object\n"
          ],
          "name": "stdout"
        }
      ]
    },
    {
      "cell_type": "code",
      "metadata": {
        "id": "U7Fy9Ij__KdH",
        "colab_type": "code",
        "outputId": "6136cde3-d174-42af-f271-5c480f50abb3",
        "colab": {
          "base_uri": "https://localhost:8080/",
          "height": 107
        }
      },
      "source": [
        "from sklearn.feature_extraction.text import CountVectorizer\n",
        "\n",
        "vectorizer_train = CountVectorizer(vocabulary=list(sorted_cat_dict.keys()), lowercase=False, binary=True)\n",
        "vectorizer_train.fit(X_train['clean_categories'].values)\n",
        "\n",
        "categories_vect_train = vectorizer_train.transform(X_train['clean_categories'].values)\n",
        "categories_vect_test = vectorizer_train.transform(X_test['clean_categories'].values)\n",
        "categories_vect_cv = vectorizer_train.transform(X_cv['clean_categories'].values)\n",
        "\n",
        "print(vectorizer_train.get_feature_names())\n",
        "\n",
        "print(\"Shape of Train data after vectorization: \",categories_vect_train.shape)\n",
        "print(\"Shape of Test data after vectorization: \",categories_vect_test.shape)\n",
        "print(\"Shape of CV data after vectorization: \",categories_vect_cv.shape)\n",
        "\t"
      ],
      "execution_count": 40,
      "outputs": [
        {
          "output_type": "stream",
          "text": [
            "['Economics', 'CommunityService', 'FinancialLiteracy', 'ParentInvolvement', 'Extracurricular', 'Civics_Government', 'ForeignLanguages', 'NutritionEducation', 'Warmth', 'Care_Hunger', 'SocialSciences', 'PerformingArts', 'CharacterEducation', 'TeamSports', 'Other', 'College_CareerPrep', 'Music', 'History_Geography', 'Health_LifeScience', 'EarlyDevelopment', 'ESL', 'Gym_Fitness', 'EnvironmentalScience', 'VisualArts', 'Health_Wellness', 'AppliedSciences', 'SpecialNeeds', 'Literature_Writing', 'Mathematics', 'Literacy']\n",
            "Shape of Train data after vectorization:  (49041, 30)\n",
            "Shape of Test data after vectorization:  (36052, 30)\n",
            "Shape of CV data after vectorization:  (24155, 30)\n"
          ],
          "name": "stdout"
        }
      ]
    },
    {
      "cell_type": "markdown",
      "metadata": {
        "id": "sEI1I7eOPT0b",
        "colab_type": "text"
      },
      "source": [
        "school_state"
      ]
    },
    {
      "cell_type": "code",
      "metadata": {
        "id": "E7fOFFJdPRqA",
        "colab_type": "code",
        "colab": {}
      },
      "source": [
        "my_counter = Counter()\n",
        "for state in data_train['school_state'].values:\n",
        "    my_counter.update(state.split())\n",
        "\n",
        "school_state_cat_dict = dict(my_counter)\n",
        "sorted_school_state_cat_dict = dict(sorted(school_state_cat_dict.items(), key=lambda kv: kv[1]))    "
      ],
      "execution_count": 0,
      "outputs": []
    },
    {
      "cell_type": "code",
      "metadata": {
        "id": "6roszV_MDMkO",
        "colab_type": "code",
        "outputId": "94abc064-7cbd-407c-affd-1c041b996c76",
        "colab": {
          "base_uri": "https://localhost:8080/",
          "height": 107
        }
      },
      "source": [
        "vectorizer_states = CountVectorizer(vocabulary=list(sorted_school_state_cat_dict.keys()), lowercase=False, binary=True)\n",
        "vectorizer_states.fit(X_train['school_state'].values)\n",
        "\n",
        "school_state_categories_vect_train = vectorizer_states.transform(X_train['school_state'].values)\n",
        "school_state_categories_vect_test = vectorizer_states.transform(X_test['school_state'].values)\n",
        "school_state_categories_vect_cv = vectorizer_states.transform(X_cv['school_state'].values)\n",
        "\n",
        "print(vectorizer_states.get_feature_names())\n",
        "\n",
        "print(\"Shape of Train data after vectorization: \",school_state_categories_vect_train.shape)\n",
        "print(\"Shape of test data after vectorization: \",school_state_categories_vect_test.shape)\n",
        "print(\"Shape of cross Validation data after vectorization: \",school_state_categories_vect_cv.shape)"
      ],
      "execution_count": 42,
      "outputs": [
        {
          "output_type": "stream",
          "text": [
            "['VT', 'WY', 'ND', 'MT', 'RI', 'SD', 'NE', 'DE', 'AK', 'NH', 'WV', 'ME', 'HI', 'DC', 'NM', 'KS', 'IA', 'ID', 'AR', 'CO', 'MN', 'OR', 'KY', 'MS', 'NV', 'MD', 'CT', 'TN', 'UT', 'AL', 'WI', 'VA', 'AZ', 'NJ', 'OK', 'WA', 'MA', 'LA', 'OH', 'MO', 'IN', 'PA', 'MI', 'SC', 'GA', 'IL', 'NC', 'FL', 'NY', 'TX', 'CA']\n",
            "Shape of Train data after vectorization:  (49041, 51)\n",
            "Shape of test data after vectorization:  (36052, 51)\n",
            "Shape of cross Validation data after vectorization:  (24155, 51)\n"
          ],
          "name": "stdout"
        }
      ]
    },
    {
      "cell_type": "markdown",
      "metadata": {
        "id": "yURCn3BFQV9I",
        "colab_type": "text"
      },
      "source": [
        "project_grade_category"
      ]
    },
    {
      "cell_type": "code",
      "metadata": {
        "id": "uM02YKNxQYlI",
        "colab_type": "code",
        "colab": {}
      },
      "source": [
        "my_counter = Counter()\n",
        "for state in data_train['project_grade_category'].values:\n",
        "    my_counter.update(state.split())\n",
        "\n",
        "project_grade_cat_dict = dict(my_counter)\n",
        "sorted_project_grade_cat_dict = dict(sorted(project_grade_cat_dict.items(), key=lambda kv: kv[1]))   "
      ],
      "execution_count": 0,
      "outputs": []
    },
    {
      "cell_type": "code",
      "metadata": {
        "id": "Z3vJPDEVQe55",
        "colab_type": "code",
        "outputId": "d2942f6d-4b04-4ba5-9e7d-ef6462de71d4",
        "colab": {
          "base_uri": "https://localhost:8080/",
          "height": 87
        }
      },
      "source": [
        "vectorizer_project = CountVectorizer(vocabulary=list(sorted_project_grade_cat_dict.keys()), lowercase=False, binary=True)\n",
        "vectorizer_project.fit(X_train['project_grade_category'].values)\n",
        "\n",
        "project_grade_categories_vect_train = vectorizer_project.transform(X_train['project_grade_category'].values)\n",
        "project_grade_categories_vect_test = vectorizer_project.transform(X_test['project_grade_category'].values)\n",
        "project_grade_categories_vect_cv = vectorizer_project.transform(X_cv['project_grade_category'].values)\n",
        "\n",
        "print(vectorizer_project.get_feature_names())\n",
        "\n",
        "print(\"Shape of Train data after vectorization: \",project_grade_categories_vect_train.shape)\n",
        "print(\"Shape of test data after vectorization: \",project_grade_categories_vect_test.shape)\n",
        "print(\"Shape of cross Validation data after vectorization: \",project_grade_categories_vect_cv.shape)"
      ],
      "execution_count": 44,
      "outputs": [
        {
          "output_type": "stream",
          "text": [
            "['9-12', '6-8', '3-5', 'PreK-2', 'Grades']\n",
            "Shape of Train data after vectorization:  (49041, 5)\n",
            "Shape of test data after vectorization:  (36052, 5)\n",
            "Shape of cross Validation data after vectorization:  (24155, 5)\n"
          ],
          "name": "stdout"
        }
      ]
    },
    {
      "cell_type": "markdown",
      "metadata": {
        "id": "ExCx7OAHShsf",
        "colab_type": "text"
      },
      "source": [
        "teacher"
      ]
    },
    {
      "cell_type": "code",
      "metadata": {
        "id": "eke_nxCwSjXt",
        "colab_type": "code",
        "outputId": "6806de23-8baf-437d-da68-985debae8f11",
        "colab": {
          "base_uri": "https://localhost:8080/",
          "height": 104
        }
      },
      "source": [
        "vectorizer_teacher = CountVectorizer()\n",
        "vectorizer_teacher.fit(X_train['teacher_prefix'].values) # fit has to happen only on train data\n",
        "\n",
        "# we use the fitted CountVectorizer to convert the text to vector\n",
        "teacher_prefix_categories_vect_train = vectorizer_teacher.transform(X_train['teacher_prefix'].values)\n",
        "teacher_prefix_categories_vect_cv = vectorizer_teacher.transform(X_cv['teacher_prefix'].values)\n",
        "teacher_prefix_categories_vect_test = vectorizer_teacher.transform(X_test['teacher_prefix'].values)\n",
        "\n",
        "print(\"After vectorizations\")\n",
        "print(\"Shape of Train data \",teacher_prefix_categories_vect_train.shape, y_train.shape)\n",
        "print(\"Shape of cv data \",teacher_prefix_categories_vect_cv.shape, y_cv.shape)\n",
        "print(\"Shape of test data\",teacher_prefix_categories_vect_test.shape, y_test.shape)\n",
        "print(vectorizer_teacher.get_feature_names())"
      ],
      "execution_count": 45,
      "outputs": [
        {
          "output_type": "stream",
          "text": [
            "After vectorizations\n",
            "Shape of Train data  (49041, 6) (49041,)\n",
            "Shape of cv data  (24155, 6) (24155,)\n",
            "Shape of test data (36052, 6) (36052,)\n",
            "['dr', 'mr', 'mrs', 'ms', 'null', 'teacher']\n"
          ],
          "name": "stdout"
        }
      ]
    },
    {
      "cell_type": "markdown",
      "metadata": {
        "id": "yG-Wf5kCO4iT",
        "colab_type": "text"
      },
      "source": [
        "1. Bag of words"
      ]
    },
    {
      "cell_type": "code",
      "metadata": {
        "id": "fdQ0Tb5bO3g2",
        "colab_type": "code",
        "outputId": "87953cce-cb08-4a58-dcd5-771d68ea2df1",
        "colab": {
          "base_uri": "https://localhost:8080/",
          "height": 35
        }
      },
      "source": [
        "##For train\n",
        "vectorizer_bow_essay = CountVectorizer(min_df=10,max_features=50000)  #selecting top 50000 features\n",
        "vectorizer_bow_essay.fit(preprocessed_essays_train)\n",
        "\n",
        "text_bow_train = vectorizer_bow_essay.transform(preprocessed_essays_train)\n",
        "\n",
        "print(\"Shape of matrix after one hot encoding \",text_bow_train.shape)"
      ],
      "execution_count": 46,
      "outputs": [
        {
          "output_type": "stream",
          "text": [
            "Shape of matrix after one hot encoding  (49041, 12184)\n"
          ],
          "name": "stdout"
        }
      ]
    },
    {
      "cell_type": "code",
      "metadata": {
        "id": "TGkQ2xqPPNik",
        "colab_type": "code",
        "outputId": "0cf85725-cef3-4247-c685-b65424c389b5",
        "colab": {
          "base_uri": "https://localhost:8080/",
          "height": 35
        }
      },
      "source": [
        "##For Test\n",
        "text_bow_test = vectorizer_bow_essay.transform(preprocessed_essays_test)\n",
        "print(\"Shape of matrix after one hot encoding \",text_bow_test.shape)"
      ],
      "execution_count": 47,
      "outputs": [
        {
          "output_type": "stream",
          "text": [
            "Shape of matrix after one hot encoding  (36052, 12184)\n"
          ],
          "name": "stdout"
        }
      ]
    },
    {
      "cell_type": "code",
      "metadata": {
        "id": "97uC1IiQPj0q",
        "colab_type": "code",
        "outputId": "a0a8cccc-3415-4a2a-b6fb-01d9b9163804",
        "colab": {
          "base_uri": "https://localhost:8080/",
          "height": 35
        }
      },
      "source": [
        "##For CV\n",
        "text_bow_cv = vectorizer_bow_essay.transform(preprocessed_essays_cv)\n",
        "print(\"Shape of matrix after one hot encoding \",text_bow_cv.shape)"
      ],
      "execution_count": 48,
      "outputs": [
        {
          "output_type": "stream",
          "text": [
            "Shape of matrix after one hot encoding  (24155, 12184)\n"
          ],
          "name": "stdout"
        }
      ]
    },
    {
      "cell_type": "code",
      "metadata": {
        "id": "eDof6Kk9P4_X",
        "colab_type": "code",
        "outputId": "1046fb8c-faf8-439c-fbb2-0b16cff24b68",
        "colab": {
          "base_uri": "https://localhost:8080/",
          "height": 35
        }
      },
      "source": [
        "##For train titles\n",
        "\n",
        "vectorizer_bow_title = CountVectorizer(min_df=10)\n",
        "vectorizer_bow_title.fit(preprocessed_titles_train)\n",
        "title_bow_train = vectorizer_bow_title.transform(preprocessed_titles_train)\n",
        "print(\"Shape of matrix after one hot encoding \",title_bow_train.shape)"
      ],
      "execution_count": 49,
      "outputs": [
        {
          "output_type": "stream",
          "text": [
            "Shape of matrix after one hot encoding  (49041, 2105)\n"
          ],
          "name": "stdout"
        }
      ]
    },
    {
      "cell_type": "code",
      "metadata": {
        "id": "RrNA5_SfQATE",
        "colab_type": "code",
        "outputId": "a74da435-d5ed-4459-e354-391e240fd9b5",
        "colab": {
          "base_uri": "https://localhost:8080/",
          "height": 35
        }
      },
      "source": [
        "##For test titles\n",
        "\n",
        "title_bow_test = vectorizer_bow_title.transform(preprocessed_titles_test)\n",
        "print(\"Shape of matrix after one hot encoding \",title_bow_test.shape)"
      ],
      "execution_count": 50,
      "outputs": [
        {
          "output_type": "stream",
          "text": [
            "Shape of matrix after one hot encoding  (36052, 2105)\n"
          ],
          "name": "stdout"
        }
      ]
    },
    {
      "cell_type": "code",
      "metadata": {
        "id": "sDPIHv9GQFwH",
        "colab_type": "code",
        "outputId": "9ab99735-bbd7-4fb2-b62d-bd698d45f95f",
        "colab": {
          "base_uri": "https://localhost:8080/",
          "height": 35
        }
      },
      "source": [
        "##For CV titles\n",
        "\n",
        "title_bow_cv = vectorizer_bow_title.transform(preprocessed_titles_cv)\n",
        "print(\"Shape of matrix after one hot encoding \",title_bow_cv.shape)"
      ],
      "execution_count": 51,
      "outputs": [
        {
          "output_type": "stream",
          "text": [
            "Shape of matrix after one hot encoding  (24155, 2105)\n"
          ],
          "name": "stdout"
        }
      ]
    },
    {
      "cell_type": "markdown",
      "metadata": {
        "id": "ZnauXAZ1QMQh",
        "colab_type": "text"
      },
      "source": [
        "2. TFIDF"
      ]
    },
    {
      "cell_type": "code",
      "metadata": {
        "id": "h83lXHwOQOQh",
        "colab_type": "code",
        "outputId": "57b582e6-1c96-4c30-90ae-f0100b5eddb9",
        "colab": {
          "base_uri": "https://localhost:8080/",
          "height": 35
        }
      },
      "source": [
        "##For train essay\n",
        "from sklearn.feature_extraction.text import TfidfVectorizer\n",
        "\n",
        "vectorizer_tfidf_essay = TfidfVectorizer(min_df=10,max_features=50000) #Considering top 50000 features\n",
        "vectorizer_tfidf_essay.fit(preprocessed_essays_train)\n",
        "\n",
        "text_tfidf_train = vectorizer_tfidf_essay.transform(preprocessed_essays_train)\n",
        "print(\"Shape of matrix after one hot encoding \",text_tfidf_train.shape)"
      ],
      "execution_count": 52,
      "outputs": [
        {
          "output_type": "stream",
          "text": [
            "Shape of matrix after one hot encoding  (49041, 12184)\n"
          ],
          "name": "stdout"
        }
      ]
    },
    {
      "cell_type": "code",
      "metadata": {
        "id": "IGJdmZBkQayX",
        "colab_type": "code",
        "outputId": "81179162-b5b1-4092-e18b-b8bbe84e1b0e",
        "colab": {
          "base_uri": "https://localhost:8080/",
          "height": 35
        }
      },
      "source": [
        "##For test essay\n",
        "text_tfidf_test = vectorizer_tfidf_essay.transform(preprocessed_essays_test)\n",
        "print(\"Shape of matrix after one hot encoding \",text_tfidf_test.shape)"
      ],
      "execution_count": 53,
      "outputs": [
        {
          "output_type": "stream",
          "text": [
            "Shape of matrix after one hot encoding  (36052, 12184)\n"
          ],
          "name": "stdout"
        }
      ]
    },
    {
      "cell_type": "code",
      "metadata": {
        "id": "QVqWY5nLQfJF",
        "colab_type": "code",
        "outputId": "0f54d6da-0cc1-49a1-fcb8-c80809599301",
        "colab": {
          "base_uri": "https://localhost:8080/",
          "height": 35
        }
      },
      "source": [
        "##For cv essay\n",
        "text_tfidf_cv = vectorizer_tfidf_essay.transform(preprocessed_essays_cv)\n",
        "print(\"Shape of matrix after one hot encoding \",text_tfidf_cv.shape)"
      ],
      "execution_count": 54,
      "outputs": [
        {
          "output_type": "stream",
          "text": [
            "Shape of matrix after one hot encoding  (24155, 12184)\n"
          ],
          "name": "stdout"
        }
      ]
    },
    {
      "cell_type": "code",
      "metadata": {
        "id": "CNh782e5QzUs",
        "colab_type": "code",
        "outputId": "ec3fec30-a8ab-4370-80cd-9f50b20e2d90",
        "colab": {
          "base_uri": "https://localhost:8080/",
          "height": 35
        }
      },
      "source": [
        "##For train titles\n",
        "\n",
        "vectorizer_tfidf_titles = TfidfVectorizer(min_df=10)\n",
        "\n",
        "vectorizer_tfidf_titles.fit(preprocessed_titles_train) \n",
        "title_tfidf_train = vectorizer_tfidf_titles.transform(preprocessed_titles_train) \n",
        "print(\"Shape of matrix after one hot encoding \",title_tfidf_train.shape)"
      ],
      "execution_count": 55,
      "outputs": [
        {
          "output_type": "stream",
          "text": [
            "Shape of matrix after one hot encoding  (49041, 2105)\n"
          ],
          "name": "stdout"
        }
      ]
    },
    {
      "cell_type": "code",
      "metadata": {
        "id": "T59oenEdRAh2",
        "colab_type": "code",
        "outputId": "539c22df-e03f-44bc-da72-3fdba5d9603b",
        "colab": {
          "base_uri": "https://localhost:8080/",
          "height": 35
        }
      },
      "source": [
        "##For test titles\n",
        "title_tfidf_test = vectorizer_tfidf_titles.transform(preprocessed_titles_test)\n",
        "print(\"Shape of matrix after one hot encoding \",title_tfidf_test.shape)"
      ],
      "execution_count": 56,
      "outputs": [
        {
          "output_type": "stream",
          "text": [
            "Shape of matrix after one hot encoding  (36052, 2105)\n"
          ],
          "name": "stdout"
        }
      ]
    },
    {
      "cell_type": "code",
      "metadata": {
        "id": "waJIdy_5RFlS",
        "colab_type": "code",
        "outputId": "4ad387e7-c66a-48cf-c76c-71e339b53cc3",
        "colab": {
          "base_uri": "https://localhost:8080/",
          "height": 35
        }
      },
      "source": [
        "##For cv titles\n",
        "title_tfidf_cv = vectorizer_tfidf_titles.transform(preprocessed_titles_cv)\n",
        "print(\"Shape of matrix after one hot encoding \",title_tfidf_cv.shape)"
      ],
      "execution_count": 57,
      "outputs": [
        {
          "output_type": "stream",
          "text": [
            "Shape of matrix after one hot encoding  (24155, 2105)\n"
          ],
          "name": "stdout"
        }
      ]
    },
    {
      "cell_type": "markdown",
      "metadata": {
        "id": "DLecWaHpd2B_",
        "colab_type": "text"
      },
      "source": [
        "**NUMERICAL FEATURES**"
      ]
    },
    {
      "cell_type": "markdown",
      "metadata": {
        "id": "m2toJe62d9cX",
        "colab_type": "text"
      },
      "source": [
        "1. price"
      ]
    },
    {
      "cell_type": "code",
      "metadata": {
        "id": "tR8oGpmFd7T8",
        "colab_type": "code",
        "outputId": "2107197d-ac06-4641-dcfc-64e892001061",
        "colab": {
          "base_uri": "https://localhost:8080/",
          "height": 173
        }
      },
      "source": [
        "price_data = data_resource.groupby('id').agg({'price':'sum', 'quantity':'sum'}).reset_index()\n",
        "\n",
        "\n",
        "data_resource.columns\n",
        "data_resource.dtypes\n",
        "print(X_train.columns)\n",
        "print(price_data.head(1))"
      ],
      "execution_count": 58,
      "outputs": [
        {
          "output_type": "stream",
          "text": [
            "Index(['Unnamed: 0', 'id', 'teacher_id', 'teacher_prefix', 'school_state',\n",
            "       'project_submitted_datetime', 'project_grade_category', 'project_title',\n",
            "       'project_essay_1', 'project_essay_2', 'project_essay_3',\n",
            "       'project_essay_4', 'project_resource_summary',\n",
            "       'teacher_number_of_previously_posted_projects', 'clean_categories',\n",
            "       'title_word_count', 'essay', 'essay_word_count'],\n",
            "      dtype='object')\n",
            "        id   price  quantity\n",
            "0  p000001  459.56         7\n"
          ],
          "name": "stdout"
        }
      ]
    },
    {
      "cell_type": "code",
      "metadata": {
        "id": "o6cNwy77gpW9",
        "colab_type": "code",
        "colab": {}
      },
      "source": [
        "X_train = pd.merge(X_train, price_data, on='id', how='left')\n",
        "X_test = pd.merge(X_test, price_data, on='id', how='left')\n",
        "X_cv = pd.merge(X_cv, price_data, on='id', how='left')"
      ],
      "execution_count": 0,
      "outputs": []
    },
    {
      "cell_type": "code",
      "metadata": {
        "id": "HAFo4Fpkrnx2",
        "colab_type": "code",
        "outputId": "7a65c3e6-4d97-4320-cdd1-5298af09ab27",
        "colab": {
          "base_uri": "https://localhost:8080/",
          "height": 104
        }
      },
      "source": [
        "from sklearn.preprocessing import Normalizer\n",
        "\n",
        "normalizer = Normalizer()\n",
        "\n",
        "# normalizer.fit(X_train['price'].values)\n",
        "# this will rise an error Expected 2D array, got 1D array instead: \n",
        "# array=[105.22 215.96  96.01 ... 368.98  80.53 709.67].\n",
        "# Reshape your data either using \n",
        "# array.reshape(-1, 1) if your data has a single feature \n",
        "# array.reshape(1, -1)  if it contains a single sample.\n",
        "\n",
        "normalizer.fit(X_train['price'].values.reshape(1,-1))\n",
        "\n",
        "price_train = normalizer.transform(X_train['price'].values.reshape(1,-1))\n",
        "price_cv = normalizer.transform(X_cv['price'].values.reshape(1,-1))\n",
        "price_test = normalizer.transform(X_test['price'].values.reshape(1,-1))\n",
        "\n",
        "print(\"After vectorizations\")\n",
        "print(price_train.shape, y_train.shape)\n",
        "print(price_cv.shape, y_cv.shape)\n",
        "print(price_test.shape, y_test.shape)\n",
        "print(\"=\"*100)"
      ],
      "execution_count": 60,
      "outputs": [
        {
          "output_type": "stream",
          "text": [
            "After vectorizations\n",
            "(1, 49041) (49041,)\n",
            "(1, 24155) (24155,)\n",
            "(1, 36052) (36052,)\n",
            "====================================================================================================\n"
          ],
          "name": "stdout"
        }
      ]
    },
    {
      "cell_type": "markdown",
      "metadata": {
        "id": "k-IRUsj1rr-R",
        "colab_type": "text"
      },
      "source": [
        "quantity"
      ]
    },
    {
      "cell_type": "code",
      "metadata": {
        "id": "-b_u9pb9rpoc",
        "colab_type": "code",
        "outputId": "45b935e8-7eea-42e2-8b9f-234a8b2cdfda",
        "colab": {
          "base_uri": "https://localhost:8080/",
          "height": 104
        }
      },
      "source": [
        "normalizer = Normalizer()\n",
        "\n",
        "# normalizer.fit(X_train['price'].values)\n",
        "# this will rise an error Expected 2D array, got 1D array instead: \n",
        "# array=[105.22 215.96  96.01 ... 368.98  80.53 709.67].\n",
        "# Reshape your data either using \n",
        "# array.reshape(-1, 1) if your data has a single feature \n",
        "# array.reshape(1, -1)  if it contains a single sample.\n",
        "\n",
        "normalizer.fit(X_train['quantity'].values.reshape(1,-1))\n",
        "\n",
        "quantity_train = normalizer.transform(X_train['quantity'].values.reshape(1,-1))\n",
        "quantity_cv = normalizer.transform(X_cv['quantity'].values.reshape(1,-1))\n",
        "quantity_test = normalizer.transform(X_test['quantity'].values.reshape(1,-1))\n",
        "\n",
        "print(\"After vectorizations\")\n",
        "print(quantity_train.shape, y_train.shape)\n",
        "print(quantity_cv.shape, y_cv.shape)\n",
        "print(quantity_test.shape, y_test.shape)\n",
        "print(\"=\"*100)"
      ],
      "execution_count": 61,
      "outputs": [
        {
          "output_type": "stream",
          "text": [
            "After vectorizations\n",
            "(1, 49041) (49041,)\n",
            "(1, 24155) (24155,)\n",
            "(1, 36052) (36052,)\n",
            "====================================================================================================\n"
          ],
          "name": "stdout"
        }
      ]
    },
    {
      "cell_type": "markdown",
      "metadata": {
        "id": "AYu7qi5yr0m-",
        "colab_type": "text"
      },
      "source": [
        "teacher_number_of_previously_posted_projects"
      ]
    },
    {
      "cell_type": "code",
      "metadata": {
        "id": "jEjVhSFhrwzV",
        "colab_type": "code",
        "outputId": "d3540870-5290-4d0a-e468-7aba33fecab0",
        "colab": {
          "base_uri": "https://localhost:8080/",
          "height": 104
        }
      },
      "source": [
        "normalizer = Normalizer()\n",
        "\n",
        "# normalizer.fit(X_train['price'].values)\n",
        "# this will rise an error Expected 2D array, got 1D array instead: \n",
        "# array=[105.22 215.96  96.01 ... 368.98  80.53 709.67].\n",
        "# Reshape your data either using \n",
        "# array.reshape(-1, 1) if your data has a single feature \n",
        "# array.reshape(1, -1)  if it contains a single sample.\n",
        "\n",
        "normalizer.fit(X_train['teacher_number_of_previously_posted_projects'].values.reshape(1,-1))\n",
        "\n",
        "prev_projects_train = normalizer.transform(X_train['teacher_number_of_previously_posted_projects'].values.reshape(-1,1))\n",
        "prev_projects_cv = normalizer.transform(X_cv['teacher_number_of_previously_posted_projects'].values.reshape(-1,1))\n",
        "prev_projects_test = normalizer.transform(X_test['teacher_number_of_previously_posted_projects'].values.reshape(-1,1))\n",
        "\n",
        "print(\"After vectorizations\")\n",
        "print(prev_projects_train.shape, y_train.shape)\n",
        "print(prev_projects_cv.shape, y_cv.shape)\n",
        "print(prev_projects_test.shape, y_test.shape)\n",
        "print(\"=\"*100)"
      ],
      "execution_count": 62,
      "outputs": [
        {
          "output_type": "stream",
          "text": [
            "After vectorizations\n",
            "(49041, 1) (49041,)\n",
            "(24155, 1) (24155,)\n",
            "(36052, 1) (36052,)\n",
            "====================================================================================================\n"
          ],
          "name": "stdout"
        }
      ]
    },
    {
      "cell_type": "markdown",
      "metadata": {
        "id": "GlaU1tSFr-BX",
        "colab_type": "text"
      },
      "source": [
        "title_word_count"
      ]
    },
    {
      "cell_type": "code",
      "metadata": {
        "id": "CUxb7cAIr-ro",
        "colab_type": "code",
        "outputId": "a390e10a-2b78-4c27-bb82-f0a7a072bfbe",
        "colab": {
          "base_uri": "https://localhost:8080/",
          "height": 104
        }
      },
      "source": [
        "normalizer = Normalizer()\n",
        "\n",
        "normalizer.fit(X_train['title_word_count'].values.reshape(1,-1))\n",
        "\n",
        "title_word_count_train = normalizer.transform(X_train['title_word_count'].values.reshape(1,-1))\n",
        "title_word_count_cv = normalizer.transform(X_cv['title_word_count'].values.reshape(1,-1))\n",
        "title_word_count_test = normalizer.transform(X_test['title_word_count'].values.reshape(1,-1))\n",
        "\n",
        "print(\"After vectorizations\")\n",
        "print(title_word_count_train.shape, y_train.shape)\n",
        "print(title_word_count_cv.shape, y_cv.shape)\n",
        "print(title_word_count_test.shape, y_test.shape)\n",
        "print(\"=\"*100)"
      ],
      "execution_count": 63,
      "outputs": [
        {
          "output_type": "stream",
          "text": [
            "After vectorizations\n",
            "(1, 49041) (49041,)\n",
            "(1, 24155) (24155,)\n",
            "(1, 36052) (36052,)\n",
            "====================================================================================================\n"
          ],
          "name": "stdout"
        }
      ]
    },
    {
      "cell_type": "markdown",
      "metadata": {
        "id": "J5wmS2dXsDRb",
        "colab_type": "text"
      },
      "source": [
        "essay_word_count"
      ]
    },
    {
      "cell_type": "code",
      "metadata": {
        "id": "mpVqzxPUsD7N",
        "colab_type": "code",
        "outputId": "08ba3a35-2b8a-473c-f538-727c43f94167",
        "colab": {
          "base_uri": "https://localhost:8080/",
          "height": 87
        }
      },
      "source": [
        "normalizer = Normalizer()\n",
        "\n",
        "normalizer.fit(X_train['essay_word_count'].values.reshape(1,-1))\n",
        "\n",
        "essay_word_count_train = normalizer.transform(X_train['essay_word_count'].values.reshape(1,-1))\n",
        "essay_word_count_cv = normalizer.transform(X_cv['essay_word_count'].values.reshape(1,-1))\n",
        "essay_word_count_test = normalizer.transform(X_test['essay_word_count'].values.reshape(1,-1))\n",
        "\n",
        "print(\"After vectorizations\")\n",
        "print(essay_word_count_train.shape, y_train.shape)\n",
        "print(essay_word_count_cv.shape, y_cv.shape)\n",
        "print(essay_word_count_test.shape, y_test.shape)"
      ],
      "execution_count": 64,
      "outputs": [
        {
          "output_type": "stream",
          "text": [
            "After vectorizations\n",
            "(1, 49041) (49041,)\n",
            "(1, 24155) (24155,)\n",
            "(1, 36052) (36052,)\n"
          ],
          "name": "stdout"
        }
      ]
    },
    {
      "cell_type": "markdown",
      "metadata": {
        "id": "yYHPYadYb3dh",
        "colab_type": "text"
      },
      "source": [
        "<h2>1.5 Appling NB on different kind of featurization as mentioned in the instructions</h2>\n",
        "\n",
        "<br>Apply NB on different kind of featurization as mentioned in the instructions\n",
        "<br> For Every model that you work on make sure you do the step 2 and step 3 of instrucations"
      ]
    },
    {
      "cell_type": "code",
      "metadata": {
        "id": "giU8LIe63zWU",
        "colab_type": "code",
        "colab": {}
      },
      "source": [
        "price_train = (X_train['price'].values.reshape(-1,1))\n",
        "price_cv = (X_cv['price'].values.reshape(-1,1))\n",
        "price_test = (X_test['price'].values.reshape(-1,1))\n",
        "\n",
        "quantity_train =(X_train['quantity'].values.reshape(-1,1))\n",
        "quantity_cv = (X_cv['quantity'].values.reshape(-1,1))\n",
        "quantity_test = (X_test['quantity'].values.reshape(-1,1))\n",
        "\n",
        "prev_projects_train = (X_train['teacher_number_of_previously_posted_projects'].values.reshape(-1,1))\n",
        "prev_projects_cv = (X_cv['teacher_number_of_previously_posted_projects'].values.reshape(-1,1))\n",
        "prev_projects_test = (X_test['teacher_number_of_previously_posted_projects'].values.reshape(-1,1))\n",
        "\n",
        "title_word_count_train = (X_train['title_word_count'].values.reshape(-1,1))\n",
        "title_word_count_cv = (X_cv['title_word_count'].values.reshape(-1,1))\n",
        "title_word_count_test = (X_test['title_word_count'].values.reshape(-1,1))\n",
        "\n",
        "\n",
        "essay_word_count_train = (X_train['essay_word_count'].values.reshape(-1,1))\n",
        "essay_word_count_cv = (X_cv['essay_word_count'].values.reshape(-1,1))\n",
        "essay_word_count_test = (X_test['essay_word_count'].values.reshape(-1,1))\n"
      ],
      "execution_count": 0,
      "outputs": []
    },
    {
      "cell_type": "code",
      "metadata": {
        "id": "DNwqilFxb3di",
        "colab_type": "code",
        "colab": {}
      },
      "source": [
        "# please write all the code with proper documentation, and proper titles for each subsection\n",
        "# go through documentations and blogs before you start coding\n",
        "# first figure out what to do, and then think about how to do.\n",
        "# reading and understanding error messages will be very much helpfull in debugging your code\n",
        "# when you plot any graph make sure you use \n",
        "    # a. Title, that describes your plot, this will be very helpful to the reader\n",
        "    # b. Legends if needed\n",
        "    # c. X-axis label\n",
        "    # d. Y-axis label\n",
        "# merge two sparse matrices: https://stackoverflow.com/a/19710648/4084039\n",
        "from scipy.sparse import hstack\n",
        "\n",
        "X_train_final = hstack((categories_vect_train, school_state_categories_vect_train, project_grade_categories_vect_train, teacher_prefix_categories_vect_train, price_train, quantity_train, prev_projects_train, title_word_count_train, essay_word_count_train, title_bow_train, text_bow_train)).tocsr()\n",
        "X_test_final = hstack((categories_vect_test,  school_state_categories_vect_test, project_grade_categories_vect_test, teacher_prefix_categories_vect_test, price_test, quantity_test, prev_projects_test, title_word_count_test, essay_word_count_test, title_bow_test, text_bow_test)).tocsr()\n",
        "X_cr_final = hstack((categories_vect_cv,  school_state_categories_vect_cv, project_grade_categories_vect_cv, teacher_prefix_categories_vect_cv, price_cv, quantity_cv, prev_projects_cv, title_word_count_cv, essay_word_count_cv, title_bow_cv, text_bow_cv)).tocsr()\n",
        "\n"
      ],
      "execution_count": 0,
      "outputs": []
    },
    {
      "cell_type": "code",
      "metadata": {
        "id": "KtBgxV6PC308",
        "colab_type": "code",
        "outputId": "598dca75-1eaf-4633-dbab-f21a51e56427",
        "colab": {
          "base_uri": "https://localhost:8080/",
          "height": 139
        }
      },
      "source": [
        "print(\"Final Data shapes\")\n",
        "print(X_train_final.shape, y_train.shape)\n",
        "print(X_cr_final.shape, y_cv.shape)\n",
        "print(X_test_final.shape, y_test.shape)\n",
        "print(\"=\"*100)\n",
        "\n",
        "print(type(X_train_final))\n",
        "print(type(y_train))"
      ],
      "execution_count": 67,
      "outputs": [
        {
          "output_type": "stream",
          "text": [
            "Final Data shapes\n",
            "(49041, 14386) (49041,)\n",
            "(24155, 14386) (24155,)\n",
            "(36052, 14386) (36052,)\n",
            "====================================================================================================\n",
            "<class 'scipy.sparse.csr.csr_matrix'>\n",
            "<class 'pandas.core.series.Series'>\n"
          ],
          "name": "stdout"
        }
      ]
    },
    {
      "cell_type": "code",
      "metadata": {
        "id": "HYtlaHjnDCBx",
        "colab_type": "code",
        "colab": {}
      },
      "source": [
        "def batch_predict(clf, data):\n",
        "    # roc_auc_score(y_true, y_score) the 2nd parameter should be probability estimates of the positive class\n",
        "    # not the predicted outputs\n",
        "\n",
        "    y_data_pred = []\n",
        "    tr_loop = data.shape[0] - data.shape[0]%1000\n",
        "    # consider you X_tr shape is 49041, then your cr_loop will be 49041 - 49041%1000 = 49000\n",
        "    # in this for loop we will iterate unti the last 1000 multiplier\n",
        "    for i in range(0, tr_loop, 1000):\n",
        "        y_data_pred.extend(clf.predict_proba(data[i:i+1000])[:,1])\n",
        "    # we will be predicting for the last data points\n",
        "    y_data_pred.extend(clf.predict_proba(data[tr_loop:])[:,1])\n",
        "    \n",
        "    return y_data_pred"
      ],
      "execution_count": 0,
      "outputs": []
    },
    {
      "cell_type": "markdown",
      "metadata": {
        "id": "kfJNc3b4DMkA",
        "colab_type": "text"
      },
      "source": [
        "**GRID SEARCH**"
      ]
    },
    {
      "cell_type": "code",
      "metadata": {
        "id": "2Ir82tyeDLyb",
        "colab_type": "code",
        "outputId": "793e690c-9b58-4f2f-8cc0-7186aa85d411",
        "colab": {
          "base_uri": "https://localhost:8080/",
          "height": 1000
        }
      },
      "source": [
        "from sklearn.model_selection import GridSearchCV\n",
        "from sklearn.naive_bayes import MultinomialNB\n",
        "nb = MultinomialNB(class_prior=[0.5,0.5])\n",
        "\n",
        "parameters = {'alpha':[0.00001, 0.0001,0.001, 0.01, 0.1,0.5,0.8, 1, 10,  100,  1000]}\n",
        "\n",
        "clf = GridSearchCV(nb, parameters, cv= 10, scoring='roc_auc',return_train_score=True,verbose=2)\n",
        "\n",
        "clf.fit(X_train_final, y_train)\n",
        "\n",
        "train_auc= clf.cv_results_['mean_train_score']\n",
        "train_auc_std= clf.cv_results_['std_train_score']\n",
        "cv_auc = clf.cv_results_['mean_test_score'] \n",
        "cv_auc_std= clf.cv_results_['std_test_score']"
      ],
      "execution_count": 69,
      "outputs": [
        {
          "output_type": "stream",
          "text": [
            "Fitting 10 folds for each of 11 candidates, totalling 110 fits\n",
            "[CV] alpha=1e-05 .....................................................\n",
            "[CV] ...................................... alpha=1e-05, total=   0.1s\n",
            "[CV] alpha=1e-05 .....................................................\n"
          ],
          "name": "stdout"
        },
        {
          "output_type": "stream",
          "text": [
            "[Parallel(n_jobs=1)]: Using backend SequentialBackend with 1 concurrent workers.\n",
            "[Parallel(n_jobs=1)]: Done   1 out of   1 | elapsed:    0.1s remaining:    0.0s\n"
          ],
          "name": "stderr"
        },
        {
          "output_type": "stream",
          "text": [
            "[CV] ...................................... alpha=1e-05, total=   0.1s\n",
            "[CV] alpha=1e-05 .....................................................\n",
            "[CV] ...................................... alpha=1e-05, total=   0.1s\n",
            "[CV] alpha=1e-05 .....................................................\n",
            "[CV] ...................................... alpha=1e-05, total=   0.1s\n",
            "[CV] alpha=1e-05 .....................................................\n",
            "[CV] ...................................... alpha=1e-05, total=   0.1s\n",
            "[CV] alpha=1e-05 .....................................................\n",
            "[CV] ...................................... alpha=1e-05, total=   0.1s\n",
            "[CV] alpha=1e-05 .....................................................\n",
            "[CV] ...................................... alpha=1e-05, total=   0.1s\n",
            "[CV] alpha=1e-05 .....................................................\n",
            "[CV] ...................................... alpha=1e-05, total=   0.1s\n",
            "[CV] alpha=1e-05 .....................................................\n",
            "[CV] ...................................... alpha=1e-05, total=   0.1s\n",
            "[CV] alpha=1e-05 .....................................................\n",
            "[CV] ...................................... alpha=1e-05, total=   0.1s\n",
            "[CV] alpha=0.0001 ....................................................\n",
            "[CV] ..................................... alpha=0.0001, total=   0.1s\n",
            "[CV] alpha=0.0001 ....................................................\n",
            "[CV] ..................................... alpha=0.0001, total=   0.1s\n",
            "[CV] alpha=0.0001 ....................................................\n",
            "[CV] ..................................... alpha=0.0001, total=   0.1s\n",
            "[CV] alpha=0.0001 ....................................................\n",
            "[CV] ..................................... alpha=0.0001, total=   0.1s\n",
            "[CV] alpha=0.0001 ....................................................\n",
            "[CV] ..................................... alpha=0.0001, total=   0.1s\n",
            "[CV] alpha=0.0001 ....................................................\n",
            "[CV] ..................................... alpha=0.0001, total=   0.1s\n",
            "[CV] alpha=0.0001 ....................................................\n",
            "[CV] ..................................... alpha=0.0001, total=   0.1s\n",
            "[CV] alpha=0.0001 ....................................................\n",
            "[CV] ..................................... alpha=0.0001, total=   0.1s\n",
            "[CV] alpha=0.0001 ....................................................\n",
            "[CV] ..................................... alpha=0.0001, total=   0.1s\n",
            "[CV] alpha=0.0001 ....................................................\n",
            "[CV] ..................................... alpha=0.0001, total=   0.1s\n",
            "[CV] alpha=0.001 .....................................................\n",
            "[CV] ...................................... alpha=0.001, total=   0.1s\n",
            "[CV] alpha=0.001 .....................................................\n",
            "[CV] ...................................... alpha=0.001, total=   0.1s\n",
            "[CV] alpha=0.001 .....................................................\n",
            "[CV] ...................................... alpha=0.001, total=   0.1s\n",
            "[CV] alpha=0.001 .....................................................\n",
            "[CV] ...................................... alpha=0.001, total=   0.1s\n",
            "[CV] alpha=0.001 .....................................................\n",
            "[CV] ...................................... alpha=0.001, total=   0.1s\n",
            "[CV] alpha=0.001 .....................................................\n",
            "[CV] ...................................... alpha=0.001, total=   0.1s\n",
            "[CV] alpha=0.001 .....................................................\n",
            "[CV] ...................................... alpha=0.001, total=   0.1s\n",
            "[CV] alpha=0.001 .....................................................\n",
            "[CV] ...................................... alpha=0.001, total=   0.1s\n",
            "[CV] alpha=0.001 .....................................................\n",
            "[CV] ...................................... alpha=0.001, total=   0.1s\n",
            "[CV] alpha=0.001 .....................................................\n",
            "[CV] ...................................... alpha=0.001, total=   0.1s\n",
            "[CV] alpha=0.01 ......................................................\n",
            "[CV] ....................................... alpha=0.01, total=   0.1s\n",
            "[CV] alpha=0.01 ......................................................\n",
            "[CV] ....................................... alpha=0.01, total=   0.1s\n",
            "[CV] alpha=0.01 ......................................................\n",
            "[CV] ....................................... alpha=0.01, total=   0.1s\n",
            "[CV] alpha=0.01 ......................................................\n",
            "[CV] ....................................... alpha=0.01, total=   0.1s\n",
            "[CV] alpha=0.01 ......................................................\n",
            "[CV] ....................................... alpha=0.01, total=   0.1s\n",
            "[CV] alpha=0.01 ......................................................\n",
            "[CV] ....................................... alpha=0.01, total=   0.1s\n",
            "[CV] alpha=0.01 ......................................................\n",
            "[CV] ....................................... alpha=0.01, total=   0.1s\n",
            "[CV] alpha=0.01 ......................................................\n",
            "[CV] ....................................... alpha=0.01, total=   0.1s\n",
            "[CV] alpha=0.01 ......................................................\n",
            "[CV] ....................................... alpha=0.01, total=   0.1s\n",
            "[CV] alpha=0.01 ......................................................\n",
            "[CV] ....................................... alpha=0.01, total=   0.1s\n",
            "[CV] alpha=0.1 .......................................................\n",
            "[CV] ........................................ alpha=0.1, total=   0.1s\n",
            "[CV] alpha=0.1 .......................................................\n",
            "[CV] ........................................ alpha=0.1, total=   0.1s\n",
            "[CV] alpha=0.1 .......................................................\n",
            "[CV] ........................................ alpha=0.1, total=   0.1s\n",
            "[CV] alpha=0.1 .......................................................\n",
            "[CV] ........................................ alpha=0.1, total=   0.1s\n",
            "[CV] alpha=0.1 .......................................................\n",
            "[CV] ........................................ alpha=0.1, total=   0.1s\n",
            "[CV] alpha=0.1 .......................................................\n",
            "[CV] ........................................ alpha=0.1, total=   0.1s\n",
            "[CV] alpha=0.1 .......................................................\n",
            "[CV] ........................................ alpha=0.1, total=   0.1s\n",
            "[CV] alpha=0.1 .......................................................\n",
            "[CV] ........................................ alpha=0.1, total=   0.1s\n",
            "[CV] alpha=0.1 .......................................................\n",
            "[CV] ........................................ alpha=0.1, total=   0.1s\n",
            "[CV] alpha=0.1 .......................................................\n",
            "[CV] ........................................ alpha=0.1, total=   0.1s\n",
            "[CV] alpha=0.5 .......................................................\n",
            "[CV] ........................................ alpha=0.5, total=   0.1s\n",
            "[CV] alpha=0.5 .......................................................\n",
            "[CV] ........................................ alpha=0.5, total=   0.1s\n",
            "[CV] alpha=0.5 .......................................................\n",
            "[CV] ........................................ alpha=0.5, total=   0.1s\n",
            "[CV] alpha=0.5 .......................................................\n",
            "[CV] ........................................ alpha=0.5, total=   0.1s\n",
            "[CV] alpha=0.5 .......................................................\n",
            "[CV] ........................................ alpha=0.5, total=   0.1s\n",
            "[CV] alpha=0.5 .......................................................\n",
            "[CV] ........................................ alpha=0.5, total=   0.1s\n",
            "[CV] alpha=0.5 .......................................................\n",
            "[CV] ........................................ alpha=0.5, total=   0.1s\n",
            "[CV] alpha=0.5 .......................................................\n",
            "[CV] ........................................ alpha=0.5, total=   0.1s\n",
            "[CV] alpha=0.5 .......................................................\n",
            "[CV] ........................................ alpha=0.5, total=   0.1s\n",
            "[CV] alpha=0.5 .......................................................\n",
            "[CV] ........................................ alpha=0.5, total=   0.1s\n",
            "[CV] alpha=0.8 .......................................................\n",
            "[CV] ........................................ alpha=0.8, total=   0.1s\n",
            "[CV] alpha=0.8 .......................................................\n",
            "[CV] ........................................ alpha=0.8, total=   0.1s\n",
            "[CV] alpha=0.8 .......................................................\n",
            "[CV] ........................................ alpha=0.8, total=   0.1s\n",
            "[CV] alpha=0.8 .......................................................\n",
            "[CV] ........................................ alpha=0.8, total=   0.1s\n",
            "[CV] alpha=0.8 .......................................................\n",
            "[CV] ........................................ alpha=0.8, total=   0.1s\n",
            "[CV] alpha=0.8 .......................................................\n",
            "[CV] ........................................ alpha=0.8, total=   0.1s\n",
            "[CV] alpha=0.8 .......................................................\n",
            "[CV] ........................................ alpha=0.8, total=   0.1s\n",
            "[CV] alpha=0.8 .......................................................\n",
            "[CV] ........................................ alpha=0.8, total=   0.1s\n",
            "[CV] alpha=0.8 .......................................................\n",
            "[CV] ........................................ alpha=0.8, total=   0.1s\n",
            "[CV] alpha=0.8 .......................................................\n",
            "[CV] ........................................ alpha=0.8, total=   0.1s\n",
            "[CV] alpha=1 .........................................................\n",
            "[CV] .......................................... alpha=1, total=   0.1s\n",
            "[CV] alpha=1 .........................................................\n",
            "[CV] .......................................... alpha=1, total=   0.1s\n",
            "[CV] alpha=1 .........................................................\n",
            "[CV] .......................................... alpha=1, total=   0.1s\n",
            "[CV] alpha=1 .........................................................\n",
            "[CV] .......................................... alpha=1, total=   0.1s\n",
            "[CV] alpha=1 .........................................................\n",
            "[CV] .......................................... alpha=1, total=   0.1s\n",
            "[CV] alpha=1 .........................................................\n",
            "[CV] .......................................... alpha=1, total=   0.1s\n",
            "[CV] alpha=1 .........................................................\n",
            "[CV] .......................................... alpha=1, total=   0.1s\n",
            "[CV] alpha=1 .........................................................\n",
            "[CV] .......................................... alpha=1, total=   0.1s\n",
            "[CV] alpha=1 .........................................................\n",
            "[CV] .......................................... alpha=1, total=   0.1s\n",
            "[CV] alpha=1 .........................................................\n",
            "[CV] .......................................... alpha=1, total=   0.1s\n",
            "[CV] alpha=10 ........................................................\n",
            "[CV] ......................................... alpha=10, total=   0.1s\n",
            "[CV] alpha=10 ........................................................\n",
            "[CV] ......................................... alpha=10, total=   0.1s\n",
            "[CV] alpha=10 ........................................................\n",
            "[CV] ......................................... alpha=10, total=   0.1s\n",
            "[CV] alpha=10 ........................................................\n",
            "[CV] ......................................... alpha=10, total=   0.1s\n",
            "[CV] alpha=10 ........................................................\n",
            "[CV] ......................................... alpha=10, total=   0.1s\n",
            "[CV] alpha=10 ........................................................\n",
            "[CV] ......................................... alpha=10, total=   0.1s\n",
            "[CV] alpha=10 ........................................................\n",
            "[CV] ......................................... alpha=10, total=   0.1s\n",
            "[CV] alpha=10 ........................................................\n",
            "[CV] ......................................... alpha=10, total=   0.1s\n",
            "[CV] alpha=10 ........................................................\n",
            "[CV] ......................................... alpha=10, total=   0.1s\n",
            "[CV] alpha=10 ........................................................\n",
            "[CV] ......................................... alpha=10, total=   0.1s\n",
            "[CV] alpha=100 .......................................................\n",
            "[CV] ........................................ alpha=100, total=   0.1s\n",
            "[CV] alpha=100 .......................................................\n",
            "[CV] ........................................ alpha=100, total=   0.1s\n",
            "[CV] alpha=100 .......................................................\n",
            "[CV] ........................................ alpha=100, total=   0.1s\n",
            "[CV] alpha=100 .......................................................\n",
            "[CV] ........................................ alpha=100, total=   0.1s\n",
            "[CV] alpha=100 .......................................................\n",
            "[CV] ........................................ alpha=100, total=   0.1s\n",
            "[CV] alpha=100 .......................................................\n",
            "[CV] ........................................ alpha=100, total=   0.1s\n",
            "[CV] alpha=100 .......................................................\n",
            "[CV] ........................................ alpha=100, total=   0.1s\n",
            "[CV] alpha=100 .......................................................\n",
            "[CV] ........................................ alpha=100, total=   0.1s\n",
            "[CV] alpha=100 .......................................................\n",
            "[CV] ........................................ alpha=100, total=   0.1s\n",
            "[CV] alpha=100 .......................................................\n",
            "[CV] ........................................ alpha=100, total=   0.1s\n",
            "[CV] alpha=1000 ......................................................\n",
            "[CV] ....................................... alpha=1000, total=   0.1s\n",
            "[CV] alpha=1000 ......................................................\n",
            "[CV] ....................................... alpha=1000, total=   0.1s\n",
            "[CV] alpha=1000 ......................................................\n",
            "[CV] ....................................... alpha=1000, total=   0.1s\n",
            "[CV] alpha=1000 ......................................................\n",
            "[CV] ....................................... alpha=1000, total=   0.1s\n",
            "[CV] alpha=1000 ......................................................\n",
            "[CV] ....................................... alpha=1000, total=   0.1s\n",
            "[CV] alpha=1000 ......................................................\n",
            "[CV] ....................................... alpha=1000, total=   0.1s\n",
            "[CV] alpha=1000 ......................................................\n",
            "[CV] ....................................... alpha=1000, total=   0.1s\n",
            "[CV] alpha=1000 ......................................................\n",
            "[CV] ....................................... alpha=1000, total=   0.1s\n",
            "[CV] alpha=1000 ......................................................\n",
            "[CV] ....................................... alpha=1000, total=   0.1s\n",
            "[CV] alpha=1000 ......................................................\n",
            "[CV] ....................................... alpha=1000, total=   0.1s\n"
          ],
          "name": "stdout"
        },
        {
          "output_type": "stream",
          "text": [
            "[Parallel(n_jobs=1)]: Done 110 out of 110 | elapsed:   13.8s finished\n"
          ],
          "name": "stderr"
        }
      ]
    },
    {
      "cell_type": "code",
      "metadata": {
        "id": "c4b7Yc7mEELP",
        "colab_type": "code",
        "outputId": "217af1ba-2f2d-4d13-d806-14405e7d3297",
        "colab": {
          "base_uri": "https://localhost:8080/",
          "height": 610
        }
      },
      "source": [
        "import math\n",
        "alphas = [0.00001, 0.0001, 0.001, 0.01, 0.1,0.5,0.8, 1, 10,  100,  1000]\n",
        "log_alphas =[]\n",
        "\n",
        "\n",
        "\n",
        "plt.figure(figsize=(20,10))\n",
        "\n",
        "plt.plot(alphas, train_auc, label='Train AUC')\n",
        "# this code is copied from here: https://stackoverflow.com/a/48803361/4084039\n",
        "plt.gca().fill_between(alphas,train_auc - train_auc_std,train_auc + train_auc_std,alpha=0.3,color='darkblue')\n",
        "\n",
        "plt.plot(alphas, cv_auc, label='CV AUC')\n",
        "# this code is copied from here: https://stackoverflow.com/a/48803361/4084039\n",
        "plt.gca().fill_between(alphas,cv_auc - cv_auc_std,cv_auc + cv_auc_std,alpha=0.3,color='darkorange')\n",
        "\n",
        "plt.scatter(alphas, train_auc, label='Train AUC points')\n",
        "plt.scatter(alphas, cv_auc, label='CV AUC points')\n",
        "\n",
        "\n",
        "plt.legend()\n",
        "plt.xlabel(\" hyperparameter \")\n",
        "plt.ylabel(\"AUC\")\n",
        "plt.title(\"hyperparameter v/s AUC\")\n",
        "plt.grid(color='black', linestyle='-', linewidth=0.5)\n",
        "plt.show()"
      ],
      "execution_count": 70,
      "outputs": [
        {
          "output_type": "display_data",
          "data": {
            "image/png": "[encoded data removed]",
            "text/plain": [
              "<Figure size 1440x720 with 1 Axes>"
            ]
          },
          "metadata": {
            "tags": [],
            "needs_background": "light"
          }
        }
      ]
    },
    {
      "cell_type": "code",
      "metadata": {
        "id": "QB6VT-LAzDV6",
        "colab_type": "code",
        "outputId": "09e3ae92-66cf-40e6-a03a-015e21535f0a",
        "colab": {
          "base_uri": "https://localhost:8080/",
          "height": 627
        }
      },
      "source": [
        "import math\n",
        "alphas = [0.00001, 0.0001, 0.001, 0.01, 0.1,0.5,0.8, 1, 10,  100,  1000]\n",
        "log_alphas =[]\n",
        "\n",
        "for a in tqdm(alphas):\n",
        "    b = math.log(a)\n",
        "    log_alphas.append(b)\n",
        "\n",
        "plt.figure(figsize=(20,10))\n",
        "\n",
        "plt.plot(log_alphas, train_auc, label='Train AUC')\n",
        "# this code is copied from here: https://stackoverflow.com/a/48803361/4084039\n",
        "plt.gca().fill_between(log_alphas,train_auc - train_auc_std,train_auc + train_auc_std,alpha=0.3,color='darkblue')\n",
        "\n",
        "plt.plot(log_alphas, cv_auc, label='CV AUC')\n",
        "# this code is copied from here: https://stackoverflow.com/a/48803361/4084039\n",
        "plt.gca().fill_between(log_alphas,cv_auc - cv_auc_std,cv_auc + cv_auc_std,alpha=0.3,color='darkorange')\n",
        "\n",
        "plt.scatter(log_alphas, train_auc, label='Train AUC points')\n",
        "plt.scatter(log_alphas, cv_auc, label='CV AUC points')\n",
        "\n",
        "\n",
        "plt.legend()\n",
        "plt.xlabel(\" hyperparameter \")\n",
        "plt.ylabel(\"AUC\")\n",
        "plt.title(\"hyperparameter v/s AUC\")\n",
        "plt.grid(color='black', linestyle='-', linewidth=0.5)\n",
        "plt.show()"
      ],
      "execution_count": 71,
      "outputs": [
        {
          "output_type": "stream",
          "text": [
            "100%|██████████| 11/11 [00:00<00:00, 17765.63it/s]\n"
          ],
          "name": "stderr"
        },
        {
          "output_type": "display_data",
          "data": {
            "image/png": "[encoded data removed]",
            "text/plain": [
              "<Figure size 1440x720 with 1 Axes>"
            ]
          },
          "metadata": {
            "tags": [],
            "needs_background": "light"
          }
        }
      ]
    },
    {
      "cell_type": "code",
      "metadata": {
        "id": "xzzFO3I3xn-z",
        "colab_type": "code",
        "outputId": "6e7763bc-a8d0-47c1-f6fb-a119d6a63a7e",
        "colab": {
          "base_uri": "https://localhost:8080/",
          "height": 35
        }
      },
      "source": [
        "best_param = clf.best_params_  ## https://datascience.stackexchange.com/questions/21877/how-to-use-the-output-of-gridsearch\n",
        "print(best_param)"
      ],
      "execution_count": 72,
      "outputs": [
        {
          "output_type": "stream",
          "text": [
            "{'alpha': 0.5}\n"
          ],
          "name": "stdout"
        }
      ]
    },
    {
      "cell_type": "markdown",
      "metadata": {
        "id": "lS9hIHdib3dp",
        "colab_type": "text"
      },
      "source": [
        "<h1>3. **Summary**</h1>\n",
        "\n",
        "1. As it is clear that just using hyperparameters as it is gives a non interpretable graph. Whereas log values of it gives a better understanding of how the AUC is varying with hyperparameters.\n",
        "2. Here we have taken the hyperparameter ranging from 0.00001 to 1000.\n",
        "3. From the graph it can be seen that as value of alpha increases train AUC and cv AUC starts to converge.\n",
        "4. by using best_params_ function we were able to get the best hyperparameter value."
      ]
    },
    {
      "cell_type": "markdown",
      "metadata": {
        "id": "NPNgtV7m0jaP",
        "colab_type": "text"
      },
      "source": [
        "**Training Model using the best hyperparameter**"
      ]
    },
    {
      "cell_type": "code",
      "metadata": {
        "id": "rdqPWQ0R0ox2",
        "colab_type": "code",
        "outputId": "bf070552-ab6d-444e-edb5-2aa0c1221b50",
        "colab": {
          "base_uri": "https://localhost:8080/",
          "height": 295
        }
      },
      "source": [
        "# https://scikit-learn.org/stable/modules/generated/sklearn.metrics.roc_curve.html#sklearn.metrics.roc_curve\n",
        "from sklearn.metrics import roc_curve, auc\n",
        "\n",
        "nb_bow = MultinomialNB(0.5,class_prior=[0.5,0.5])\n",
        "\n",
        "nb_bow.fit(X_train_final, y_train)\n",
        "\n",
        "y_train_pred = batch_predict(nb_bow, X_train_final)    \n",
        "y_test_pred = batch_predict(nb_bow, X_test_final)\n",
        "\n",
        "train_fpr, train_tpr, tr_thresholds = roc_curve(y_train, y_train_pred)\n",
        "test_fpr, test_tpr, te_thresholds = roc_curve(y_test, y_test_pred)\n",
        "\n",
        "plt.plot(train_fpr, train_tpr, label=\"Train AUC =\"+str(auc(train_fpr, train_tpr)))\n",
        "plt.plot(test_fpr, test_tpr, label=\"Test AUC =\"+str(auc(test_fpr, test_tpr)))\n",
        "plt.legend()\n",
        "plt.xlabel(\"True Positive Rate(TPR)\")\n",
        "plt.ylabel(\"False Positive Rate(FPR)\")\n",
        "plt.title(\"AUC\")\n",
        "plt.grid(color='black', linestyle='-', linewidth=0.5)\n",
        "plt.show()"
      ],
      "execution_count": 73,
      "outputs": [
        {
          "output_type": "display_data",
          "data": {
            "image/png": "[encoded data removed]",
            "text/plain": [
              "<Figure size 432x288 with 1 Axes>"
            ]
          },
          "metadata": {
            "tags": [],
            "needs_background": "light"
          }
        }
      ]
    },
    {
      "cell_type": "markdown",
      "metadata": {
        "id": "CcrRmidy4W6O",
        "colab_type": "text"
      },
      "source": [
        "**Summary**\n",
        "\n",
        "1. By using auc module under sklearn we are able to find auc scores easily.\n",
        "2. Used the best alpha value 0.5 to train the model which gave auc score of train and test data as shown in the graph. i.e. 0.6546 and 0.6339 repectively."
      ]
    },
    {
      "cell_type": "markdown",
      "metadata": {
        "id": "Spj-9FiS6SGk",
        "colab_type": "text"
      },
      "source": [
        "**Getting confusion matrix of train and test data**"
      ]
    },
    {
      "cell_type": "code",
      "metadata": {
        "id": "_c_VRmk65ThV",
        "colab_type": "code",
        "colab": {}
      },
      "source": [
        "def predict(proba, threshould, fpr, tpr):\n",
        "    \n",
        "    t = threshould[np.argmax(fpr*(1-tpr))]\n",
        "    \n",
        "    predictions = []\n",
        "    for i in proba:\n",
        "        if i>=t:\n",
        "            predictions.append(1)\n",
        "        else:\n",
        "            predictions.append(0)\n",
        "    return predictions"
      ],
      "execution_count": 0,
      "outputs": []
    },
    {
      "cell_type": "code",
      "metadata": {
        "id": "G6P3fhuM6jYD",
        "colab_type": "code",
        "outputId": "a4afdb73-f347-480e-bf87-adb5e5da026b",
        "colab": {
          "base_uri": "https://localhost:8080/",
          "height": 69
        }
      },
      "source": [
        "from sklearn.metrics import confusion_matrix\n",
        "print(\"Train data confusion matrix\")\n",
        "print(confusion_matrix(y_train, predict(y_train_pred, tr_thresholds, train_fpr, train_fpr)))"
      ],
      "execution_count": 75,
      "outputs": [
        {
          "output_type": "stream",
          "text": [
            "Train data confusion matrix\n",
            "[[ 3714  3712]\n",
            " [12044 29571]]\n"
          ],
          "name": "stdout"
        }
      ]
    },
    {
      "cell_type": "code",
      "metadata": {
        "id": "jxkzxPKT66e_",
        "colab_type": "code",
        "outputId": "4f909371-60a4-4ad7-e8a0-426e4d3b6f47",
        "colab": {
          "base_uri": "https://localhost:8080/",
          "height": 69
        }
      },
      "source": [
        "\n",
        "print(\"Test confusion matrix\")\n",
        "print(confusion_matrix(y_test, predict(y_test_pred, tr_thresholds, test_fpr, test_fpr)))"
      ],
      "execution_count": 76,
      "outputs": [
        {
          "output_type": "stream",
          "text": [
            "Test confusion matrix\n",
            "[[ 3066  2393]\n",
            " [11212 19381]]\n"
          ],
          "name": "stdout"
        }
      ]
    },
    {
      "cell_type": "markdown",
      "metadata": {
        "id": "QJfcBGImFwuR",
        "colab_type": "text"
      },
      "source": [
        "**Top 20 features** "
      ]
    },
    {
      "cell_type": "code",
      "metadata": {
        "id": "NaX19uuTG_vW",
        "colab_type": "code",
        "colab": {}
      },
      "source": [
        "bow_features_names1 = []\n",
        "for cnt in vectorizer_train.get_feature_names() :\n",
        "    bow_features_names1.append(cnt)\n",
        "\n",
        "for cnt2 in vectorizer_states.get_feature_names() :\n",
        "    bow_features_names1.append(cnt2)\n",
        "\n",
        "for cnt3 in vectorizer_project.get_feature_names() :\n",
        "    bow_features_names1.append(cnt3)\n",
        "\n",
        "for cnt4 in vectorizer_teacher.get_feature_names() :\n",
        "    bow_features_names1.append(cnt4)\n",
        "\n",
        "for cnt5 in vectorizer_bow_title.get_feature_names() :\n",
        "    bow_features_names1.append(cnt5)\n",
        "\n",
        "for cnt6 in vectorizer_bow_essay.get_feature_names() :\n",
        "    bow_features_names1.append(cnt6)        "
      ],
      "execution_count": 0,
      "outputs": []
    },
    {
      "cell_type": "code",
      "metadata": {
        "id": "HEBNmX2fIT5e",
        "colab_type": "code",
        "outputId": "8dcb1895-0ce3-48cd-af50-c54f3698c4a6",
        "colab": {
          "base_uri": "https://localhost:8080/",
          "height": 35
        }
      },
      "source": [
        "\n",
        "bow_features_names1.append(\"price\")\n",
        "\n",
        "bow_features_names1.append(\"quantity\")\n",
        "\n",
        "\n",
        "bow_features_names1.append(\"prev_proposed_projects\")\n",
        "\n",
        "bow_features_names1.append(\"title_word_count\")\n",
        "\n",
        "bow_features_names1.append(\"essay_word_count\")\n",
        "\n",
        "len(bow_features_names1)"
      ],
      "execution_count": 78,
      "outputs": [
        {
          "output_type": "execute_result",
          "data": {
            "text/plain": [
              "14386"
            ]
          },
          "metadata": {
            "tags": []
          },
          "execution_count": 78
        }
      ]
    },
    {
      "cell_type": "code",
      "metadata": {
        "id": "POC6rrM2Fvvx",
        "colab_type": "code",
        "outputId": "c2a8c8ae-a1c7-48d8-856f-ed1bf5c33b37",
        "colab": {
          "base_uri": "https://localhost:8080/",
          "height": 364
        }
      },
      "source": [
        "sorted_features = nb_bow.feature_log_prob_[1, :].argsort()[::-1]\n",
        "for i in sorted_features[:20]:\n",
        "    print(bow_features_names1[i])\n"
      ],
      "execution_count": 79,
      "outputs": [
        {
          "output_type": "stream",
          "text": [
            "04\n",
            "123\n",
            "05\n",
            "10\n",
            "toe\n",
            "angeles\n",
            "their\n",
            "studnets\n",
            "offering\n",
            "101\n",
            "inadequate\n",
            "myself\n",
            "arguably\n",
            "thing\n",
            "themed\n",
            "willing\n",
            "islanders\n",
            "ford\n",
            "outcome\n",
            "hawaii\n"
          ],
          "name": "stdout"
        }
      ]
    },
    {
      "cell_type": "markdown",
      "metadata": {
        "id": "x3iHWbx22102",
        "colab_type": "text"
      },
      "source": [
        "**TFIDF data set**"
      ]
    },
    {
      "cell_type": "code",
      "metadata": {
        "id": "J8zBS5on2-Bg",
        "colab_type": "code",
        "colab": {}
      },
      "source": [
        "X_Train_final = hstack((categories_vect_train, project_grade_categories_vect_train, teacher_prefix_categories_vect_train, price_train, quantity_train, prev_projects_train, title_word_count_train, essay_word_count_train, title_tfidf_train, text_tfidf_train)).tocsr()\n",
        "X_Test_final = hstack((categories_vect_test, project_grade_categories_vect_test, teacher_prefix_categories_vect_test, price_test, quantity_test, prev_projects_test, title_word_count_test, essay_word_count_test, title_tfidf_test, text_tfidf_test)).tocsr()\n",
        "X_CV_final = hstack((categories_vect_cv, project_grade_categories_vect_cv, teacher_prefix_categories_vect_cv, price_cv, quantity_cv, prev_projects_cv, title_word_count_cv, essay_word_count_cv, title_tfidf_cv, text_tfidf_cv)).tocsr()"
      ],
      "execution_count": 0,
      "outputs": []
    },
    {
      "cell_type": "code",
      "metadata": {
        "id": "Bcpk9Vu66-TE",
        "colab_type": "code",
        "colab": {
          "base_uri": "https://localhost:8080/",
          "height": 104
        },
        "outputId": "ba8e30f0-89e1-4d08-aca5-9a2cbf4954ba"
      },
      "source": [
        "print(\"Final data shape\")\n",
        "print(X_Train_final.shape, y_train.shape)\n",
        "print(X_CV_final.shape, y_cv.shape)\n",
        "print(X_Test_final.shape, y_test.shape)\n",
        "print(\"=\" * 70)"
      ],
      "execution_count": 84,
      "outputs": [
        {
          "output_type": "stream",
          "text": [
            "Final data shape\n",
            "(49041, 14335) (49041,)\n",
            "(24155, 14335) (24155,)\n",
            "(36052, 14335) (36052,)\n",
            "======================================================================\n"
          ],
          "name": "stdout"
        }
      ]
    },
    {
      "cell_type": "code",
      "metadata": {
        "id": "deQY8IjZ7aNm",
        "colab_type": "code",
        "colab": {
          "base_uri": "https://localhost:8080/",
          "height": 1000
        },
        "outputId": "0cea276d-b901-4558-8df3-c431fa6ebe94"
      },
      "source": [
        "nb = MultinomialNB(class_prior=[0.5,0.5])\n",
        "\n",
        "parameters = {'alpha':[0.00001, 0.0001, 0.001, 0.01, 0.1,0.25,0.5,0.8, 1,100]}\n",
        "\n",
        "clf = GridSearchCV(nb, parameters, cv= 10, scoring='roc_auc',return_train_score=True,verbose=2)\n",
        "\n",
        "clf.fit(X_Train_final, y_train)\n",
        "\n",
        "train_auc= clf.cv_results_['mean_train_score']\n",
        "train_auc_std= clf.cv_results_['std_train_score']\n",
        "cv_auc = clf.cv_results_['mean_test_score'] \n",
        "cv_auc_std= clf.cv_results_['std_test_score']"
      ],
      "execution_count": 85,
      "outputs": [
        {
          "output_type": "stream",
          "text": [
            "Fitting 10 folds for each of 10 candidates, totalling 100 fits\n",
            "[CV] alpha=1e-05 .....................................................\n",
            "[CV] ...................................... alpha=1e-05, total=   0.1s\n",
            "[CV] alpha=1e-05 .....................................................\n"
          ],
          "name": "stdout"
        },
        {
          "output_type": "stream",
          "text": [
            "[Parallel(n_jobs=1)]: Using backend SequentialBackend with 1 concurrent workers.\n",
            "[Parallel(n_jobs=1)]: Done   1 out of   1 | elapsed:    0.1s remaining:    0.0s\n"
          ],
          "name": "stderr"
        },
        {
          "output_type": "stream",
          "text": [
            "[CV] ...................................... alpha=1e-05, total=   0.1s\n",
            "[CV] alpha=1e-05 .....................................................\n",
            "[CV] ...................................... alpha=1e-05, total=   0.1s\n",
            "[CV] alpha=1e-05 .....................................................\n",
            "[CV] ...................................... alpha=1e-05, total=   0.1s\n",
            "[CV] alpha=1e-05 .....................................................\n",
            "[CV] ...................................... alpha=1e-05, total=   0.1s\n",
            "[CV] alpha=1e-05 .....................................................\n",
            "[CV] ...................................... alpha=1e-05, total=   0.1s\n",
            "[CV] alpha=1e-05 .....................................................\n",
            "[CV] ...................................... alpha=1e-05, total=   0.1s\n",
            "[CV] alpha=1e-05 .....................................................\n",
            "[CV] ...................................... alpha=1e-05, total=   0.1s\n",
            "[CV] alpha=1e-05 .....................................................\n",
            "[CV] ...................................... alpha=1e-05, total=   0.1s\n",
            "[CV] alpha=1e-05 .....................................................\n",
            "[CV] ...................................... alpha=1e-05, total=   0.1s\n",
            "[CV] alpha=0.0001 ....................................................\n",
            "[CV] ..................................... alpha=0.0001, total=   0.1s\n",
            "[CV] alpha=0.0001 ....................................................\n",
            "[CV] ..................................... alpha=0.0001, total=   0.1s\n",
            "[CV] alpha=0.0001 ....................................................\n",
            "[CV] ..................................... alpha=0.0001, total=   0.1s\n",
            "[CV] alpha=0.0001 ....................................................\n",
            "[CV] ..................................... alpha=0.0001, total=   0.1s\n",
            "[CV] alpha=0.0001 ....................................................\n",
            "[CV] ..................................... alpha=0.0001, total=   0.1s\n",
            "[CV] alpha=0.0001 ....................................................\n",
            "[CV] ..................................... alpha=0.0001, total=   0.1s\n",
            "[CV] alpha=0.0001 ....................................................\n",
            "[CV] ..................................... alpha=0.0001, total=   0.1s\n",
            "[CV] alpha=0.0001 ....................................................\n",
            "[CV] ..................................... alpha=0.0001, total=   0.1s\n",
            "[CV] alpha=0.0001 ....................................................\n",
            "[CV] ..................................... alpha=0.0001, total=   0.1s\n",
            "[CV] alpha=0.0001 ....................................................\n",
            "[CV] ..................................... alpha=0.0001, total=   0.1s\n",
            "[CV] alpha=0.001 .....................................................\n",
            "[CV] ...................................... alpha=0.001, total=   0.1s\n",
            "[CV] alpha=0.001 .....................................................\n",
            "[CV] ...................................... alpha=0.001, total=   0.1s\n",
            "[CV] alpha=0.001 .....................................................\n",
            "[CV] ...................................... alpha=0.001, total=   0.1s\n",
            "[CV] alpha=0.001 .....................................................\n",
            "[CV] ...................................... alpha=0.001, total=   0.1s\n",
            "[CV] alpha=0.001 .....................................................\n",
            "[CV] ...................................... alpha=0.001, total=   0.1s\n",
            "[CV] alpha=0.001 .....................................................\n",
            "[CV] ...................................... alpha=0.001, total=   0.1s\n",
            "[CV] alpha=0.001 .....................................................\n",
            "[CV] ...................................... alpha=0.001, total=   0.1s\n",
            "[CV] alpha=0.001 .....................................................\n",
            "[CV] ...................................... alpha=0.001, total=   0.1s\n",
            "[CV] alpha=0.001 .....................................................\n",
            "[CV] ...................................... alpha=0.001, total=   0.1s\n",
            "[CV] alpha=0.001 .....................................................\n",
            "[CV] ...................................... alpha=0.001, total=   0.1s\n",
            "[CV] alpha=0.01 ......................................................\n",
            "[CV] ....................................... alpha=0.01, total=   0.1s\n",
            "[CV] alpha=0.01 ......................................................\n",
            "[CV] ....................................... alpha=0.01, total=   0.1s\n",
            "[CV] alpha=0.01 ......................................................\n",
            "[CV] ....................................... alpha=0.01, total=   0.1s\n",
            "[CV] alpha=0.01 ......................................................\n",
            "[CV] ....................................... alpha=0.01, total=   0.1s\n",
            "[CV] alpha=0.01 ......................................................\n",
            "[CV] ....................................... alpha=0.01, total=   0.1s\n",
            "[CV] alpha=0.01 ......................................................\n",
            "[CV] ....................................... alpha=0.01, total=   0.1s\n",
            "[CV] alpha=0.01 ......................................................\n",
            "[CV] ....................................... alpha=0.01, total=   0.1s\n",
            "[CV] alpha=0.01 ......................................................\n",
            "[CV] ....................................... alpha=0.01, total=   0.1s\n",
            "[CV] alpha=0.01 ......................................................\n",
            "[CV] ....................................... alpha=0.01, total=   0.1s\n",
            "[CV] alpha=0.01 ......................................................\n",
            "[CV] ....................................... alpha=0.01, total=   0.1s\n",
            "[CV] alpha=0.1 .......................................................\n",
            "[CV] ........................................ alpha=0.1, total=   0.1s\n",
            "[CV] alpha=0.1 .......................................................\n",
            "[CV] ........................................ alpha=0.1, total=   0.1s\n",
            "[CV] alpha=0.1 .......................................................\n",
            "[CV] ........................................ alpha=0.1, total=   0.1s\n",
            "[CV] alpha=0.1 .......................................................\n",
            "[CV] ........................................ alpha=0.1, total=   0.1s\n",
            "[CV] alpha=0.1 .......................................................\n",
            "[CV] ........................................ alpha=0.1, total=   0.1s\n",
            "[CV] alpha=0.1 .......................................................\n",
            "[CV] ........................................ alpha=0.1, total=   0.1s\n",
            "[CV] alpha=0.1 .......................................................\n",
            "[CV] ........................................ alpha=0.1, total=   0.1s\n",
            "[CV] alpha=0.1 .......................................................\n",
            "[CV] ........................................ alpha=0.1, total=   0.1s\n",
            "[CV] alpha=0.1 .......................................................\n",
            "[CV] ........................................ alpha=0.1, total=   0.1s\n",
            "[CV] alpha=0.1 .......................................................\n",
            "[CV] ........................................ alpha=0.1, total=   0.1s\n",
            "[CV] alpha=0.25 ......................................................\n",
            "[CV] ....................................... alpha=0.25, total=   0.1s\n",
            "[CV] alpha=0.25 ......................................................\n",
            "[CV] ....................................... alpha=0.25, total=   0.1s\n",
            "[CV] alpha=0.25 ......................................................\n",
            "[CV] ....................................... alpha=0.25, total=   0.1s\n",
            "[CV] alpha=0.25 ......................................................\n",
            "[CV] ....................................... alpha=0.25, total=   0.1s\n",
            "[CV] alpha=0.25 ......................................................\n",
            "[CV] ....................................... alpha=0.25, total=   0.1s\n",
            "[CV] alpha=0.25 ......................................................\n",
            "[CV] ....................................... alpha=0.25, total=   0.1s\n",
            "[CV] alpha=0.25 ......................................................\n",
            "[CV] ....................................... alpha=0.25, total=   0.1s\n",
            "[CV] alpha=0.25 ......................................................\n",
            "[CV] ....................................... alpha=0.25, total=   0.1s\n",
            "[CV] alpha=0.25 ......................................................\n",
            "[CV] ....................................... alpha=0.25, total=   0.1s\n",
            "[CV] alpha=0.25 ......................................................\n",
            "[CV] ....................................... alpha=0.25, total=   0.1s\n",
            "[CV] alpha=0.5 .......................................................\n",
            "[CV] ........................................ alpha=0.5, total=   0.1s\n",
            "[CV] alpha=0.5 .......................................................\n",
            "[CV] ........................................ alpha=0.5, total=   0.1s\n",
            "[CV] alpha=0.5 .......................................................\n",
            "[CV] ........................................ alpha=0.5, total=   0.1s\n",
            "[CV] alpha=0.5 .......................................................\n",
            "[CV] ........................................ alpha=0.5, total=   0.1s\n",
            "[CV] alpha=0.5 .......................................................\n",
            "[CV] ........................................ alpha=0.5, total=   0.1s\n",
            "[CV] alpha=0.5 .......................................................\n",
            "[CV] ........................................ alpha=0.5, total=   0.1s\n",
            "[CV] alpha=0.5 .......................................................\n",
            "[CV] ........................................ alpha=0.5, total=   0.1s\n",
            "[CV] alpha=0.5 .......................................................\n",
            "[CV] ........................................ alpha=0.5, total=   0.1s\n",
            "[CV] alpha=0.5 .......................................................\n",
            "[CV] ........................................ alpha=0.5, total=   0.1s\n",
            "[CV] alpha=0.5 .......................................................\n",
            "[CV] ........................................ alpha=0.5, total=   0.1s\n",
            "[CV] alpha=0.8 .......................................................\n",
            "[CV] ........................................ alpha=0.8, total=   0.1s\n",
            "[CV] alpha=0.8 .......................................................\n",
            "[CV] ........................................ alpha=0.8, total=   0.1s\n",
            "[CV] alpha=0.8 .......................................................\n",
            "[CV] ........................................ alpha=0.8, total=   0.1s\n",
            "[CV] alpha=0.8 .......................................................\n",
            "[CV] ........................................ alpha=0.8, total=   0.1s\n",
            "[CV] alpha=0.8 .......................................................\n",
            "[CV] ........................................ alpha=0.8, total=   0.1s\n",
            "[CV] alpha=0.8 .......................................................\n",
            "[CV] ........................................ alpha=0.8, total=   0.1s\n",
            "[CV] alpha=0.8 .......................................................\n",
            "[CV] ........................................ alpha=0.8, total=   0.1s\n",
            "[CV] alpha=0.8 .......................................................\n",
            "[CV] ........................................ alpha=0.8, total=   0.1s\n",
            "[CV] alpha=0.8 .......................................................\n",
            "[CV] ........................................ alpha=0.8, total=   0.1s\n",
            "[CV] alpha=0.8 .......................................................\n",
            "[CV] ........................................ alpha=0.8, total=   0.1s\n",
            "[CV] alpha=1 .........................................................\n",
            "[CV] .......................................... alpha=1, total=   0.1s\n",
            "[CV] alpha=1 .........................................................\n",
            "[CV] .......................................... alpha=1, total=   0.1s\n",
            "[CV] alpha=1 .........................................................\n",
            "[CV] .......................................... alpha=1, total=   0.1s\n",
            "[CV] alpha=1 .........................................................\n",
            "[CV] .......................................... alpha=1, total=   0.1s\n",
            "[CV] alpha=1 .........................................................\n",
            "[CV] .......................................... alpha=1, total=   0.1s\n",
            "[CV] alpha=1 .........................................................\n",
            "[CV] .......................................... alpha=1, total=   0.1s\n",
            "[CV] alpha=1 .........................................................\n",
            "[CV] .......................................... alpha=1, total=   0.1s\n",
            "[CV] alpha=1 .........................................................\n",
            "[CV] .......................................... alpha=1, total=   0.1s\n",
            "[CV] alpha=1 .........................................................\n",
            "[CV] .......................................... alpha=1, total=   0.1s\n",
            "[CV] alpha=1 .........................................................\n",
            "[CV] .......................................... alpha=1, total=   0.1s\n",
            "[CV] alpha=100 .......................................................\n",
            "[CV] ........................................ alpha=100, total=   0.1s\n",
            "[CV] alpha=100 .......................................................\n",
            "[CV] ........................................ alpha=100, total=   0.1s\n",
            "[CV] alpha=100 .......................................................\n",
            "[CV] ........................................ alpha=100, total=   0.1s\n",
            "[CV] alpha=100 .......................................................\n",
            "[CV] ........................................ alpha=100, total=   0.1s\n",
            "[CV] alpha=100 .......................................................\n",
            "[CV] ........................................ alpha=100, total=   0.1s\n",
            "[CV] alpha=100 .......................................................\n",
            "[CV] ........................................ alpha=100, total=   0.1s\n",
            "[CV] alpha=100 .......................................................\n",
            "[CV] ........................................ alpha=100, total=   0.1s\n",
            "[CV] alpha=100 .......................................................\n",
            "[CV] ........................................ alpha=100, total=   0.1s\n",
            "[CV] alpha=100 .......................................................\n",
            "[CV] ........................................ alpha=100, total=   0.1s\n",
            "[CV] alpha=100 .......................................................\n",
            "[CV] ........................................ alpha=100, total=   0.1s\n"
          ],
          "name": "stdout"
        },
        {
          "output_type": "stream",
          "text": [
            "[Parallel(n_jobs=1)]: Done 100 out of 100 | elapsed:   12.5s finished\n"
          ],
          "name": "stderr"
        }
      ]
    },
    {
      "cell_type": "code",
      "metadata": {
        "id": "m3YViSkM7nug",
        "colab_type": "code",
        "colab": {
          "base_uri": "https://localhost:8080/",
          "height": 631
        },
        "outputId": "84270a4c-dbfd-47ee-c421-365221edf037"
      },
      "source": [
        "alphas = [0.00001, 0.0001, 0.001, 0.01, 0.1,0.25,0.5,0.8, 1,100]\n",
        "log_alphas =[]\n",
        "\n",
        "for a in tqdm(alphas):\n",
        "    b = math.log(a)\n",
        "    log_alphas.append(b)\n",
        "\n",
        "plt.figure(figsize=(20,10))\n",
        "\n",
        "plt.plot(log_alphas, train_auc, label='Train AUC')\n",
        "# this code is copied from here: https://stackoverflow.com/a/48803361/4084039\n",
        "plt.gca().fill_between(log_alphas,train_auc - train_auc_std,train_auc + train_auc_std,alpha=0.3,color='darkblue')\n",
        "\n",
        "plt.plot(log_alphas, cv_auc, label='CV AUC')\n",
        "# this code is copied from here: https://stackoverflow.com/a/48803361/4084039\n",
        "plt.gca().fill_between(log_alphas,cv_auc - cv_auc_std,cv_auc + cv_auc_std,alpha=0.3,color='darkorange')\n",
        "\n",
        "plt.scatter(log_alphas, train_auc, label='Train AUC points')\n",
        "plt.scatter(log_alphas, cv_auc, label='CV AUC points')\n",
        "\n",
        "\n",
        "plt.legend()\n",
        "plt.xlabel(\"log hyperparameter\")\n",
        "plt.ylabel(\"AUC\")\n",
        "plt.title(\"hyperparameter v/s AUC\")\n",
        "plt.grid(color='black', linestyle='-', linewidth=0.5)\n",
        "plt.show()"
      ],
      "execution_count": 87,
      "outputs": [
        {
          "output_type": "stream",
          "text": [
            "100%|██████████| 10/10 [00:00<00:00, 23392.66it/s]\n"
          ],
          "name": "stderr"
        },
        {
          "output_type": "display_data",
          "data": {
            "image/png": "[encoded data removed]",
            "text/plain": [
              "<Figure size 1440x720 with 1 Axes>"
            ]
          },
          "metadata": {
            "tags": [],
            "needs_background": "light"
          }
        }
      ]
    },
    {
      "cell_type": "code",
      "metadata": {
        "id": "c_N4S9gW7vtE",
        "colab_type": "code",
        "colab": {
          "base_uri": "https://localhost:8080/",
          "height": 35
        },
        "outputId": "507f9cee-f252-41b7-c12c-ede3af7089ba"
      },
      "source": [
        "best_param1 = clf.best_params_\n",
        "print(best_param1)"
      ],
      "execution_count": 91,
      "outputs": [
        {
          "output_type": "stream",
          "text": [
            "{'alpha': 1e-05}\n"
          ],
          "name": "stdout"
        }
      ]
    },
    {
      "cell_type": "code",
      "metadata": {
        "id": "_NlxeCkZFDQI",
        "colab_type": "code",
        "colab": {
          "base_uri": "https://localhost:8080/",
          "height": 295
        },
        "outputId": "8ccc1845-c457-40af-dd55-8af340f3d100"
      },
      "source": [
        "nb_tfidf = MultinomialNB(alpha = 1e-05,class_prior=[0.5,0.5])\n",
        "\n",
        "nb_tfidf.fit(X_Train_final, y_train)\n",
        "\n",
        "y_train_pred = batch_predict(nb_tfidf, X_Train_final)    \n",
        "y_test_pred = batch_predict(nb_tfidf, X_Test_final)\n",
        "\n",
        "train_fpr, train_tpr, tr_thresholds = roc_curve(y_train, y_train_pred)\n",
        "test_fpr, test_tpr, te_thresholds = roc_curve(y_test, y_test_pred)\n",
        "\n",
        "plt.plot(train_fpr, train_tpr, label=\"Train AUC =\"+str(auc(train_fpr, train_tpr)))\n",
        "plt.plot(test_fpr, test_tpr, label=\"Test AUC =\"+str(auc(test_fpr, test_tpr)))\n",
        "plt.legend()\n",
        "plt.xlabel(\"True Positive Rate(TPR)\")\n",
        "plt.ylabel(\"False Positive Rate(FPR)\")\n",
        "plt.title(\"AUC\")\n",
        "plt.grid(color='black', linestyle='-', linewidth=0.5)\n",
        "plt.show()"
      ],
      "execution_count": 92,
      "outputs": [
        {
          "output_type": "display_data",
          "data": {
            "image/png": "[encoded data removed]",
            "text/plain": [
              "<Figure size 432x288 with 1 Axes>"
            ]
          },
          "metadata": {
            "tags": [],
            "needs_background": "light"
          }
        }
      ]
    },
    {
      "cell_type": "code",
      "metadata": {
        "id": "G6-LQmReFoB0",
        "colab_type": "code",
        "colab": {
          "base_uri": "https://localhost:8080/",
          "height": 52
        },
        "outputId": "27bed81b-8ba9-44d0-fcd0-252c2c075a26"
      },
      "source": [
        "##Confusion matrix\n",
        "print(confusion_matrix(y_train, predict(y_train_pred, tr_thresholds, train_fpr, train_fpr)))"
      ],
      "execution_count": 94,
      "outputs": [
        {
          "output_type": "stream",
          "text": [
            "[[ 3714  3712]\n",
            " [13458 28157]]\n"
          ],
          "name": "stdout"
        }
      ]
    },
    {
      "cell_type": "code",
      "metadata": {
        "id": "gvK1VYAXFvj1",
        "colab_type": "code",
        "colab": {}
      },
      "source": [
        "#20 important features\n",
        "\n",
        "bow_features_names1 = []\n",
        "for cnt in vectorizer_train.get_feature_names() :\n",
        "    bow_features_names1.append(cnt)\n",
        "\n",
        "for cnt2 in vectorizer_states.get_feature_names() :\n",
        "    bow_features_names1.append(cnt2)\n",
        "\n",
        "for cnt3 in vectorizer_project.get_feature_names() :\n",
        "    bow_features_names1.append(cnt3)\n",
        "\n",
        "for cnt4 in vectorizer_teacher.get_feature_names() :\n",
        "    bow_features_names1.append(cnt4)\n",
        "\n",
        "for cnt5 in vectorizer_bow_title.get_feature_names() :\n",
        "    bow_features_names1.append(cnt5)\n",
        "\n",
        "for cnt6 in vectorizer_bow_essay.get_feature_names() :\n",
        "    bow_features_names1.append(cnt6)     \n",
        "\n",
        "\n",
        "\n",
        "bow_features_names1.append(\"price\")\n",
        "\n",
        "bow_features_names1.append(\"quantity\")\n",
        "\n",
        "\n",
        "bow_features_names1.append(\"prev_proposed_projects\")\n",
        "\n",
        "bow_features_names1.append(\"title_word_count\")\n",
        "\n",
        "bow_features_names1.append(\"essay_word_count\")\n",
        "\n",
        "len(bow_features_names1)       "
      ],
      "execution_count": 0,
      "outputs": []
    },
    {
      "cell_type": "code",
      "metadata": {
        "id": "VaZejZMaGcxq",
        "colab_type": "code",
        "colab": {
          "base_uri": "https://localhost:8080/",
          "height": 364
        },
        "outputId": "2e69cc86-a673-4b2e-b0e5-28ba1836ccd8"
      },
      "source": [
        "sorted_features = nb_tfidf.feature_log_prob_[1, :].argsort()[::-1]\n",
        "for i in sorted_features[:20]:\n",
        "    print(bow_features_names1[i])\n"
      ],
      "execution_count": 95,
      "outputs": [
        {
          "output_type": "stream",
          "text": [
            "ME\n",
            "KS\n",
            "HI\n",
            "DC\n",
            "NM\n",
            "RI\n",
            "DE\n",
            "AK\n",
            "Literacy\n",
            "Mathematics\n",
            "Literature_Writing\n",
            "tight\n",
            "amazed\n",
            "tenor\n",
            "SpecialNeeds\n",
            "strenuous\n",
            "AppliedSciences\n",
            "NE\n",
            "Health_Wellness\n",
            "objective\n"
          ],
          "name": "stdout"
        }
      ]
    }
  ]
}